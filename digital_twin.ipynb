{
 "cells": [
  {
   "cell_type": "markdown",
   "id": "eaf31dbd-b53e-47e9-a23d-4dd11e9a4246",
   "metadata": {},
   "source": [
    "# Digital Twin"
   ]
  },
  {
   "cell_type": "markdown",
   "id": "654a6556-af2b-4dea-897c-c164965f40dd",
   "metadata": {
    "tags": []
   },
   "source": [
    "## Run Parameters"
   ]
  },
  {
   "cell_type": "code",
   "execution_count": 1,
   "id": "cd24b750-9b9c-42a7-a703-56e2094d90de",
   "metadata": {},
   "outputs": [],
   "source": [
    "random_seed = 0\n",
    "show_intermediate_results = True\n",
    "min_events = 3\n",
    "min_impressions = 50\n",
    "min_videos = 5\n",
    "min_playtime = 10 * 1000\n",
    "time_horizon = 10 * 60 * 1000\n",
    "max_impression_duration = 1000*60*60*24\n",
    "feature_importance_threshold = 0.01\n",
    "test_fraction = 0.2\n",
    "search_factor = 4\n",
    "search_n_candidates = search_factor ** 3 # candidates = search_factor ** n_rounds\n",
    "search_agg_elimination = True\n",
    "search_cv = 5\n",
    "search_scoring = 'neg_root_mean_squared_error' # 'explained_variance'\n",
    "search_n_jobs = -1\n",
    "search_verbose = 0"
   ]
  },
  {
   "cell_type": "markdown",
   "id": "4c5887b3-5595-40d5-b1b8-cad0ddb734ff",
   "metadata": {
    "jp-MarkdownHeadingCollapsed": true,
    "tags": []
   },
   "source": [
    "## Setup"
   ]
  },
  {
   "cell_type": "code",
   "execution_count": 2,
   "id": "d8614339-78c1-4bc8-8474-80c5c7daa00e",
   "metadata": {
    "ExecuteTime": {
     "end_time": "2023-06-20T08:25:20.110518Z",
     "start_time": "2023-06-20T08:25:20.104006Z"
    },
    "tags": []
   },
   "outputs": [],
   "source": [
    "import numpy as np\n",
    "import pandas as pd\n",
    "pd.set_option('display.max_columns', None)\n",
    "import seaborn as sns\n",
    "import scipy.stats as ss\n",
    "import time\n",
    "from xgboost import XGBRegressor\n",
    "from sklearn.preprocessing import StandardScaler\n",
    "from sklearn import model_selection\n",
    "from sklearn.ensemble import RandomForestRegressor\n",
    "from sklearn.experimental import enable_halving_search_cv\n",
    "from sklearn.metrics import mean_absolute_error\n",
    "from sklearn.neural_network import MLPRegressor\n",
    "from sklearn.inspection import permutation_importance"
   ]
  },
  {
   "cell_type": "code",
   "execution_count": 3,
   "id": "e0307761-d2ac-404a-99c1-78bd386617c1",
   "metadata": {
    "ExecuteTime": {
     "end_time": "2023-06-20T08:25:20.110518Z",
     "start_time": "2023-06-20T08:25:20.104006Z"
    },
    "tags": []
   },
   "outputs": [],
   "source": [
    "read_columns = {\n",
    "    'custom_user_id': str,\n",
    "    'impression_id': str,\n",
    "    'video_id': str,\n",
    "    'video_duration': float,\n",
    "    'error_code': str,\n",
    "    'videotime_end': float,\n",
    "    'duration': float,\n",
    "    'state': str,\n",
    "    'video_bitrate': float,\n",
    "    'video_playback_height': float,\n",
    "    'client_time': float,\n",
    "    'time': float,\n",
    "    'device_class': str,\n",
    "    # 'm3u8_url': str,\n",
    "}\n",
    "\n",
    "states = {\n",
    "    'playing': 'playing',\n",
    "    'seeking': 'seeking',\n",
    "    'end_play_seeking': 'seeking',\n",
    "    'paused': 'paused',\n",
    "    'qualitychange': 'qualitychange',\n",
    "    'qualitychange_pause': 'qualitychange',\n",
    "    'startup': 'startup',\n",
    "    'customdatachange': 'drop',\n",
    "    'error': 'error',\n",
    "    'ad': 'ad',\n",
    "    'pause': 'paused',\n",
    "    'paused_seeking': 'seeking',\n",
    "    'setup': 'startup',\n",
    "    'closed': 'closed',\n",
    "    'buffering': 'rebuffering',\n",
    "    'rebuffering': 'rebuffering',\n",
    "    'ready': 'drop',\n",
    "}\n",
    "\n",
    "special_features = ['custom_user_id', 'impression_id', 'video_id']\n",
    "\n",
    "device_classes = {\n",
    "    'Other': 0,\n",
    "    'Phone': 1,\n",
    "    'Tablet': 2,\n",
    "    'Desktop': 3,\n",
    "    'TV': 4,\n",
    "    'Console': 4,\n",
    "}\n",
    "\n",
    "model_xgb = XGBRegressor(\n",
    "    tree_method = \"hist\",\n",
    "    n_jobs = 1, \n",
    "    max_depth = 100,\n",
    "    max_leaves = 1000,\n",
    "    enable_categorical = True,\n",
    "    n_estimators = 100,\n",
    ")\n",
    "\n",
    "parameters_xgb = {\n",
    "    \n",
    "    'num_parallel_tree': ss.randint(1, 10),\n",
    "    'colsample_bytree': ss.uniform(0.5, 0.5),\n",
    "    'grow_policy': ['depthwise', 'lossguide'],\n",
    "    'learning_rate': ss.uniform(0, 1),\n",
    "    'subsample': ss.uniform(0.5, 0.5),\n",
    "}\n",
    "\n",
    "model_nn = MLPRegressor(\n",
    "    solver = 'adam', \n",
    "    max_iter = 10000\n",
    ")\n",
    "\n",
    "parameters_nn = {\n",
    "    'hidden_layer_sizes': [\n",
    "        (40, 20, 10, 5, 2, ),\n",
    "        (40, 30, 20, 15, 12, 10, 8, 6, 4, 2, ),\n",
    "        (100, 50, 25, 12, 6, 3, ), \n",
    "        (60, 50, 40, 30, 20, 10, ),\n",
    "        (1000, 100, 10, ),\n",
    "        (200, 100, 50, 25, 12, 6, 3, 2, ),  \n",
    "    ],\n",
    "    'activation': ['identity', 'logistic', 'tanh', 'relu'],\n",
    "    'alpha': ss.loguniform(1e-5, 1e-3),\n",
    "    'beta_1': ss.uniform(0.5, 0.5),\n",
    "    'beta_2': ss.uniform(0.9, 0.1),\n",
    "    'epsilon': ss.loguniform(1e-9, 1e-7),\n",
    "}\n",
    "\n",
    "def halving_search(model, parameters):\n",
    "    return model_selection.HalvingRandomSearchCV(\n",
    "        estimator = model,\n",
    "        param_distributions = parameters,\n",
    "        n_candidates = search_n_candidates,\n",
    "        factor = search_factor,\n",
    "        aggressive_elimination = search_agg_elimination,\n",
    "        cv = search_cv,\n",
    "        scoring = search_scoring, \n",
    "        n_jobs = search_n_jobs,\n",
    "        verbose = search_verbose,\n",
    "        random_state=random_seed,\n",
    "    )"
   ]
  },
  {
   "cell_type": "code",
   "execution_count": 4,
   "id": "c93a170c-a293-4ab4-87a5-e5287bad1dac",
   "metadata": {
    "ExecuteTime": {
     "end_time": "2023-06-20T08:25:20.110518Z",
     "start_time": "2023-06-20T08:25:20.104006Z"
    },
    "tags": []
   },
   "outputs": [],
   "source": [
    "df = pd.read_parquet('dataset', columns=list(read_columns.keys()))\n",
    "df = df.astype(read_columns)\n",
    "if show_intermediate_results:\n",
    "    df.sample(1)"
   ]
  },
  {
   "cell_type": "markdown",
   "id": "c2865960-2a83-42a6-aa28-a6a58c5d065f",
   "metadata": {
    "tags": []
   },
   "source": [
    "## Data Processing"
   ]
  },
  {
   "cell_type": "markdown",
   "id": "bdeed592-cf3a-4631-a1e2-fd598a48e803",
   "metadata": {
    "tags": []
   },
   "source": [
    "### Data Cleaning"
   ]
  },
  {
   "cell_type": "code",
   "execution_count": 5,
   "id": "ba734556-4acd-449b-8b7e-b6052ad9313f",
   "metadata": {},
   "outputs": [],
   "source": [
    "df_processed = df.replace(['null', 'nan', None, 'None', 'none'], np.nan)\n",
    "if show_intermediate_results:\n",
    "    df_processed.sample(1)"
   ]
  },
  {
   "cell_type": "code",
   "execution_count": 6,
   "id": "2c49cf72-f7ce-41c5-9f0f-847770c69656",
   "metadata": {},
   "outputs": [],
   "source": [
    "# 0, 64, 7618501 clearly are not a single person, they watch the same videos too many times\n",
    "df_processed = df_processed[~df_processed.custom_user_id.isin([0, '64', 7618501])]"
   ]
  },
  {
   "cell_type": "code",
   "execution_count": 7,
   "id": "aeb1fc89-f8cc-4527-9666-aae5c26a1a0e",
   "metadata": {},
   "outputs": [
    {
     "data": {
      "image/png": "[encoded data removed]",
      "text/plain": [
       "<Figure size 640x480 with 1 Axes>"
      ]
     },
     "metadata": {},
     "output_type": "display_data"
    }
   ],
   "source": [
    "# remove impressions with less than min_events\n",
    "n_events_per_impression = df_processed.impression_id.value_counts()\n",
    "small_impressions = n_events_per_impression[n_events_per_impression < min_events]\n",
    "df_processed = df_processed[~df_processed.impression_id.isin(small_impressions.index)]\n",
    "if show_intermediate_results:\n",
    "    small_impressions.value_counts().sort_index().plot()"
   ]
  },
  {
   "cell_type": "code",
   "execution_count": 8,
   "id": "768e8f21-c070-4dbb-ab78-da70c9e2cb10",
   "metadata": {},
   "outputs": [
    {
     "data": {
      "image/png": "[encoded data removed]",
      "text/plain": [
       "<Figure size 640x480 with 1 Axes>"
      ]
     },
     "metadata": {},
     "output_type": "display_data"
    }
   ],
   "source": [
    "# remove users with less than min_impressions\n",
    "n_impressions_per_user = df_processed.groupby('custom_user_id').impression_id.nunique()\n",
    "small_users = n_impressions_per_user[n_impressions_per_user < min_impressions]\n",
    "df_processed = df_processed[~df_processed.custom_user_id.isin(small_users.index)]\n",
    "if show_intermediate_results:\n",
    "    small_users.value_counts().sort_index().plot()"
   ]
  },
  {
   "cell_type": "code",
   "execution_count": 9,
   "id": "bed55d62-0071-47e6-a5aa-a7d06d664ae5",
   "metadata": {},
   "outputs": [
    {
     "data": {
      "image/png": "[encoded data removed]",
      "text/plain": [
       "<Figure size 640x480 with 1 Axes>"
      ]
     },
     "metadata": {},
     "output_type": "display_data"
    }
   ],
   "source": [
    "# remove users with too few different videos\n",
    "n_videos_per_user = df_processed.groupby('custom_user_id').video_id.nunique()\n",
    "narrow_users = n_videos_per_user[n_videos_per_user < min_videos]\n",
    "df_processed = df_processed[~df_processed.custom_user_id.isin(narrow_users.index)]\n",
    "if show_intermediate_results:\n",
    "    narrow_users.value_counts().sort_index().plot()"
   ]
  },
  {
   "cell_type": "code",
   "execution_count": 10,
   "id": "e09c1cf0-0b56-4f70-a12b-8149160a2373",
   "metadata": {},
   "outputs": [],
   "source": [
    "# video_duration is not consistent along each video_id, made equal to each video's max video_duration\n",
    "max_video_duration = df_processed.groupby('video_id').video_duration.max()\n",
    "video_duration_diff = df_processed.video_id.map(max_video_duration) - df_processed.video_duration\n",
    "df_processed.video_duration += video_duration_diff\n",
    "if show_intermediate_results:\n",
    "    df_processed.groupby('video_id').video_duration.std().sort_values()"
   ]
  },
  {
   "cell_type": "raw",
   "id": "bb595f94-cb37-4bd3-bddf-5a2b0c276510",
   "metadata": {},
   "source": [
    "# remove impressions that encountered errors TODO change into interrupted because of error, some errors are not even noticeable by the user\n",
    "n_errors_per_impression = df_processed.groupby('impression_id').error_code.count()\n",
    "impressions_in_error = n_errors_per_impression[n_errors_per_impression != 0]\n",
    "df_processed = df_processed[~df_processed.impression_id.isin(impressions_in_error.index)]\n",
    "# now the error feature is irrelevant\n",
    "df_processed = df_processed.drop(columns='error_code')\n",
    "if show_intermediate_results:\n",
    "    impressions_in_error.value_counts().sort_index().plot(logy=True)"
   ]
  },
  {
   "cell_type": "code",
   "execution_count": 11,
   "id": "aa587786-0942-4af8-a2fe-af64f351a8fa",
   "metadata": {},
   "outputs": [],
   "source": [
    "df_processed = df_processed.drop(columns='error_code')"
   ]
  },
  {
   "cell_type": "code",
   "execution_count": 12,
   "id": "5335eee0-9eed-4901-b8f7-42a28248195d",
   "metadata": {},
   "outputs": [],
   "source": [
    "# remove impressions with negative videotime_end\n",
    "df_processed_negative_videotime_end = df_processed[df_processed.videotime_end < 0]\n",
    "impressions_negative_videotime_end = df_processed_negative_videotime_end.impression_id.unique()\n",
    "df_processed = df_processed[~df_processed.impression_id.isin(impressions_negative_videotime_end)]\n",
    "if show_intermediate_results:\n",
    "    len(impressions_negative_videotime_end)"
   ]
  },
  {
   "cell_type": "raw",
   "id": "fe41949a-e0ed-4380-8b38-d9ff7e295073",
   "metadata": {},
   "source": [
    "# remove impressions that weren't watched for long enough\n",
    "max_videotime_end_per_impression = df_processed.groupby('impression_id').videotime_end.max()\n",
    "impressions_short_videotime_end = max_videotime_end_per_impression[max_videotime_end_per_impression < min_playtime]\n",
    "df_processed = df_processed[~df_processed.impression_id.isin(impressions_short_videotime_end.index)]\n",
    "if show_intermediate_results:\n",
    "    impressions_short_videotime_end.hist()"
   ]
  },
  {
   "cell_type": "code",
   "execution_count": 13,
   "id": "8095fb81-0462-4816-a7f9-94c483076d1f",
   "metadata": {},
   "outputs": [
    {
     "name": "stdout",
     "output_type": "stream",
     "text": [
      "53\n"
     ]
    }
   ],
   "source": [
    "# a few impressions have videotime_end in timestamp, which makes them useless, dropped together with impressions longer than 24 hours\n",
    "impressions_too_long = df_processed[df_processed.videotime_end > max_impression_duration].impression_id.unique()\n",
    "df_processed = df_processed[~df_processed.impression_id.isin(impressions_too_long)]\n",
    "if show_intermediate_results:\n",
    "    print(len(impressions_too_long))"
   ]
  },
  {
   "cell_type": "code",
   "execution_count": 14,
   "id": "3f12a5eb-71da-4c3e-81ba-237666f8c6aa",
   "metadata": {},
   "outputs": [
    {
     "name": "stdout",
     "output_type": "stream",
     "text": [
      "354\n"
     ]
    }
   ],
   "source": [
    "# duration is sometimes negative, drop affected impressions\n",
    "impressions_negative_duration = df_processed[df_processed.duration < 0].impression_id.unique()\n",
    "df_processed = df_processed[~df_processed.impression_id.isin(impressions_negative_duration)]\n",
    "if show_intermediate_results:\n",
    "    print(len(impressions_negative_duration))"
   ]
  },
  {
   "cell_type": "code",
   "execution_count": 15,
   "id": "a3c7c76a-ee79-497b-bc76-f970ba10aa48",
   "metadata": {},
   "outputs": [
    {
     "name": "stdout",
     "output_type": "stream",
     "text": [
      "717\n"
     ]
    }
   ],
   "source": [
    "# sometimes videotime_end is greater than video_duration, drop affected impressions\n",
    "max_videotime_end = df_processed.groupby('video_id').videotime_end.max()\n",
    "max_video_duration = df_processed.groupby('video_id').video_duration.max()\n",
    "impressions_long_videotime_end = max_videotime_end[max_videotime_end > max_video_duration].index\n",
    "df_processed = df_processed[~df_processed.impression_id.isin(impressions_long_videotime_end)]\n",
    "if show_intermediate_results:\n",
    "    print(len(impressions_long_videotime_end))"
   ]
  },
  {
   "cell_type": "markdown",
   "id": "92987197-ffb6-4ae2-86e8-cf4659330525",
   "metadata": {
    "tags": []
   },
   "source": [
    "### Feature Engineering"
   ]
  },
  {
   "cell_type": "code",
   "execution_count": 16,
   "id": "434f6bba-0434-4e6a-8cdf-b1cb53b96398",
   "metadata": {},
   "outputs": [],
   "source": [
    "# time into hour of day\n",
    "df_processed['hour'] = pd.to_datetime(df_processed.time, unit='ms').dt.hour"
   ]
  },
  {
   "cell_type": "code",
   "execution_count": 17,
   "id": "bc3cbe8c-bc08-4b3b-86fa-651a1b74e405",
   "metadata": {
    "tags": []
   },
   "outputs": [
    {
     "data": {
      "image/png": "[encoded data removed]",
      "text/plain": [
       "<Figure size 640x480 with 1 Axes>"
      ]
     },
     "metadata": {},
     "output_type": "display_data"
    }
   ],
   "source": [
    "# video_id into video_popularity\n",
    "video_popularity = df_processed.groupby('video_id').impression_id.nunique()\n",
    "df_processed['video_popularity'] = df_processed.video_id.map(video_popularity)\n",
    "if show_intermediate_results:\n",
    "    df_processed.video_popularity.hist()"
   ]
  },
  {
   "cell_type": "code",
   "execution_count": 18,
   "id": "a3184206-70bc-4f94-a0e3-9790818fa5c5",
   "metadata": {},
   "outputs": [],
   "source": [
    "# state gets condensed into a lower and more consistent cardinality\n",
    "df_processed.state = df_processed.state.replace(states)\n",
    "df_processed = df_processed[df_processed.state != 'drop'].reset_index(drop=True)\n",
    "# split state in dummies\n",
    "state_features = pd.get_dummies(df_processed.state, prefix='state').mul(df_processed.duration, axis=0)\n",
    "df_processed = pd.concat([df_processed, state_features], axis=1)\n",
    "if show_intermediate_results:\n",
    "    df_processed.sample(1)"
   ]
  },
  {
   "cell_type": "code",
   "execution_count": 19,
   "id": "ef9f1864-ca90-455e-9361-0c9c5bc4e57c",
   "metadata": {},
   "outputs": [
    {
     "data": {
      "image/png": "[encoded data removed]",
      "text/plain": [
       "<Figure size 640x480 with 1 Axes>"
      ]
     },
     "metadata": {},
     "output_type": "display_data"
    }
   ],
   "source": [
    "# map device_class by screen size\n",
    "df_processed['device_class'] = df_processed.device_class.map(device_classes)\n",
    "if show_intermediate_results:\n",
    "    df_processed.device_class.hist()"
   ]
  },
  {
   "cell_type": "code",
   "execution_count": 20,
   "id": "f8e24bf0-8d69-40da-8038-35eb48bd9772",
   "metadata": {},
   "outputs": [
    {
     "data": {
      "image/png": "[encoded data removed]",
      "text/plain": [
       "<Figure size 640x480 with 1 Axes>"
      ]
     },
     "metadata": {},
     "output_type": "display_data"
    }
   ],
   "source": [
    "# videotime_end gets divided by video_duration to get engagement as percentage of video watched\n",
    "df_processed['engagement'] = df_processed.videotime_end / df_processed.video_duration\n",
    "max_engagement = df_processed.groupby('impression_id').engagement.max()\n",
    "df_processed.engagement = df_processed.impression_id.map(max_engagement)\n",
    "# certain impressions have an engagement greater than 1, dropped\n",
    "df_processed = df_processed[df_processed.engagement <= 1]\n",
    "if 'engagement' not in special_features:\n",
    "    special_features.append('engagement')\n",
    "# bin engagement\n",
    "if show_intermediate_results:\n",
    "    df_processed.engagement.plot.hist(logy=True)"
   ]
  },
  {
   "cell_type": "code",
   "execution_count": 21,
   "id": "f75f1c28-722e-4408-9afd-cc85b2a7e3e1",
   "metadata": {},
   "outputs": [
    {
     "data": {
      "image/png": "[encoded data removed]",
      "text/plain": [
       "<Figure size 640x480 with 1 Axes>"
      ]
     },
     "metadata": {},
     "output_type": "display_data"
    }
   ],
   "source": [
    "# quality change magnitude\n",
    "df_processed = df_processed.sort_values(by=['impression_id', 'client_time'])\n",
    "df_processed['qualitychange'] = df_processed.groupby('impression_id').video_bitrate.diff()\n",
    "df_processed['qualitychange'] = df_processed['qualitychange'].fillna(0)\n",
    "if show_intermediate_results:\n",
    "    df_processed.qualitychange.hist()"
   ]
  },
  {
   "cell_type": "code",
   "execution_count": 22,
   "id": "b8eb588c-71df-4f88-ba3c-ef387ab55fbf",
   "metadata": {},
   "outputs": [
    {
     "name": "stderr",
     "output_type": "stream",
     "text": [
      "/home/itec/emanuele/.conda/envs/ema-310/lib/python3.10/site-packages/pandas/core/arraylike.py:402: RuntimeWarning: divide by zero encountered in log\n",
      "  result = getattr(ufunc, method)(*inputs, **kwargs)\n"
     ]
    },
    {
     "data": {
      "image/png": "[encoded data removed]",
      "text/plain": [
       "<Figure size 640x480 with 1 Axes>"
      ]
     },
     "metadata": {},
     "output_type": "display_data"
    }
   ],
   "source": [
    "# latency between client and analytics server\n",
    "df_processed['latency'] = np.abs(df_processed.client_time - df_processed.time)\n",
    "# df_processed['latency'] = np.log(np.abs(df_processed['latency'])).replace(-np.inf, 0)\n",
    "if show_intermediate_results:\n",
    "    np.log(np.abs(df_processed.client_time - df_processed.time)).replace(-np.inf, 0).hist()"
   ]
  },
  {
   "cell_type": "code",
   "execution_count": 23,
   "id": "c479e196-7690-4684-90e8-3bdae032a930",
   "metadata": {},
   "outputs": [],
   "source": [
    "df_processed.to_csv('df_processed.csv')"
   ]
  },
  {
   "cell_type": "markdown",
   "id": "7d21d442-e059-4e3a-ab92-1b0b475eb472",
   "metadata": {
    "jp-MarkdownHeadingCollapsed": true,
    "tags": []
   },
   "source": [
    "### Compressing (run from here when comparing time horizon)"
   ]
  },
  {
   "cell_type": "code",
   "execution_count": 24,
   "id": "f9e76ab2-9a5e-40d7-a934-0328a42e6ab8",
   "metadata": {},
   "outputs": [],
   "source": [
    "df_processed = pd.read_csv('df_processed.csv', index_col=0)\n",
    "if 'engagement' not in special_features:\n",
    "    special_features.append('engagement')"
   ]
  },
  {
   "cell_type": "code",
   "execution_count": 25,
   "id": "e0493526-70c9-4b67-8bae-af18ae2df2fe",
   "metadata": {
    "tags": []
   },
   "outputs": [],
   "source": [
    "# compress impressions\n",
    "df_compressed = df_processed[df_processed.videotime_end <= time_horizon]\n",
    "\n",
    "df_compressed = df_compressed.groupby('impression_id').agg(\n",
    "    custom_user_id = pd.NamedAgg(column='custom_user_id', aggfunc='first'),\n",
    "    video_id = pd.NamedAgg(column='video_id', aggfunc='first'),\n",
    "    video_duration = pd.NamedAgg(column='video_duration', aggfunc='first'), # not present in CAdViSE \n",
    "    device_class = pd.NamedAgg(column='device_class', aggfunc='first'),\n",
    "    video_popularity = pd.NamedAgg(column='video_popularity', aggfunc='first'),\n",
    "    hour = pd.NamedAgg(column='hour', aggfunc='median'),\n",
    "    engagement = pd.NamedAgg(column='engagement', aggfunc='first'),\n",
    "    startup_delay = pd.NamedAgg(column='state_startup', aggfunc='sum'), # not present in CAdViSE\n",
    "    \n",
    "    bitrate_mean = pd.NamedAgg(column='video_bitrate', aggfunc='mean'),\n",
    "    bitrate_std = pd.NamedAgg(column='video_bitrate', aggfunc='std'),\n",
    "    bitrate_skew = pd.NamedAgg(column='video_bitrate', aggfunc='skew'),\n",
    "    bitrate_min = pd.NamedAgg(column='video_bitrate', aggfunc='min'),\n",
    "    bitrate_median = pd.NamedAgg(column='video_bitrate', aggfunc='median'),\n",
    "    bitrate_max = pd.NamedAgg(column='video_bitrate', aggfunc='max'),\n",
    "    resolution_mean = pd.NamedAgg(column='video_playback_height', aggfunc='mean'),\n",
    "    resolution_std = pd.NamedAgg(column='video_playback_height', aggfunc='std'),\n",
    "    resolution_skew = pd.NamedAgg(column='video_playback_height', aggfunc='skew'),\n",
    "    resolution_min = pd.NamedAgg(column='video_playback_height', aggfunc='min'),\n",
    "    resolution_median = pd.NamedAgg(column='video_playback_height', aggfunc='median'),\n",
    "    resolution_max = pd.NamedAgg(column='video_playback_height', aggfunc='max'),\n",
    "    latency_mean = pd.NamedAgg(column='latency', aggfunc='mean'),\n",
    "    latency_std = pd.NamedAgg(column='latency', aggfunc='std'),\n",
    "    latency_skew = pd.NamedAgg(column='latency', aggfunc='skew'),\n",
    "    latency_min = pd.NamedAgg(column='latency', aggfunc='min'),\n",
    "    latency_median = pd.NamedAgg(column='latency', aggfunc='median'),\n",
    "    latency_max = pd.NamedAgg(column='latency', aggfunc='max'),\n",
    "    qualitychange_mean = pd.NamedAgg(column='qualitychange', aggfunc='mean'),\n",
    "    qualitychange_std = pd.NamedAgg(column='qualitychange', aggfunc='std'),\n",
    "    qualitychange_skew = pd.NamedAgg(column='qualitychange', aggfunc='skew'),\n",
    "    qualitychange_max = pd.NamedAgg(column='qualitychange', aggfunc='max'),\n",
    "    # qualitychange_count = pd.NamedAgg(column='qualitychange', aggfunc=lambda x: x.astype(bool).sum()),\n",
    "    qualitychange_sum = pd.NamedAgg(column='qualitychange', aggfunc='sum'), \n",
    "    paused_mean = pd.NamedAgg(column='state_paused', aggfunc='mean'),\n",
    "    paused_std = pd.NamedAgg(column='state_paused', aggfunc='std'),\n",
    "    paused_skew = pd.NamedAgg(column='state_paused', aggfunc='skew'),\n",
    "    paused_max = pd.NamedAgg(column='state_paused', aggfunc='max'),\n",
    "    # paused_count = pd.NamedAgg(column='state_paused', aggfunc=lambda x: x.astype(bool).sum()),\n",
    "    paused_sum = pd.NamedAgg(column='state_paused', aggfunc='sum'),\n",
    "    playing_mean = pd.NamedAgg(column='state_playing', aggfunc='mean'),\n",
    "    playing_std = pd.NamedAgg(column='state_playing', aggfunc='std'),\n",
    "    playing_skew = pd.NamedAgg(column='state_playing', aggfunc='skew'),\n",
    "    playing_max = pd.NamedAgg(column='state_playing', aggfunc='max'),\n",
    "    # playing_count = pd.NamedAgg(column='state_playing', aggfunc=lambda x: x.astype(bool).sum()),\n",
    "    playing_sum = pd.NamedAgg(column='state_playing', aggfunc='sum'),\n",
    "    seeking_mean = pd.NamedAgg(column='state_seeking', aggfunc='mean'),\n",
    "    seeking_std = pd.NamedAgg(column='state_seeking', aggfunc='std'),\n",
    "    seeking_skew = pd.NamedAgg(column='state_seeking', aggfunc='skew'),\n",
    "    seeking_max = pd.NamedAgg(column='state_seeking', aggfunc='max'),\n",
    "    # seeking_count = pd.NamedAgg(column='state_seeking', aggfunc=lambda x: x.astype(bool).sum()),\n",
    "    seeking_sum = pd.NamedAgg(column='state_seeking', aggfunc='sum'), \n",
    "    rebuffering_mean = pd.NamedAgg(column='state_rebuffering', aggfunc='mean'),\n",
    "    rebuffering_std = pd.NamedAgg(column='state_rebuffering', aggfunc='std'),\n",
    "    rebuffering_skew = pd.NamedAgg(column='state_rebuffering', aggfunc='skew'),\n",
    "    rebuffering_max = pd.NamedAgg(column='state_rebuffering', aggfunc='max'),\n",
    "    # rebuffering_count = pd.NamedAgg(column='state_rebuffering', aggfunc=lambda x: x.astype(bool).sum()),\n",
    "    rebuffering_sum = pd.NamedAgg(column='state_rebuffering', aggfunc='sum'),\n",
    ")\n",
    "df_compressed = df_compressed.fillna(0).reset_index()\n",
    "\n",
    "if show_intermediate_results:\n",
    "    df_compressed.sample(1)"
   ]
  },
  {
   "cell_type": "code",
   "execution_count": 26,
   "id": "a35d02a6-f1ae-4148-b2c6-d1d261c650c4",
   "metadata": {},
   "outputs": [],
   "source": [
    "df_compressed.to_csv('df_compressed.csv')"
   ]
  },
  {
   "cell_type": "markdown",
   "id": "7b205b95-987b-430d-941b-297be73279ce",
   "metadata": {
    "jp-MarkdownHeadingCollapsed": true,
    "tags": []
   },
   "source": [
    "### Scaling"
   ]
  },
  {
   "cell_type": "code",
   "execution_count": 27,
   "id": "4c32ccf9-8c47-47e0-9a6c-9c51d9c4569a",
   "metadata": {
    "tags": []
   },
   "outputs": [],
   "source": [
    "if special_features[-1] == '10_bins_engagement':\n",
    "    special_features.pop(-1)\n",
    "\n",
    "# models benefit from standardized features\n",
    "scaler = StandardScaler().fit(df_compressed.drop(columns=special_features))\n",
    "df_standard = pd.DataFrame(\n",
    "    scaler.transform(df_compressed.drop(columns=special_features)),\n",
    "    index=df_compressed.index,\n",
    "    columns=scaler.feature_names_in_\n",
    ")\n",
    "\n",
    "# remove outliers and return df_standard to original values\n",
    "df_standard = df_standard[(df_standard.abs() < 6).all(axis=1)]\n",
    "df_standard = pd.DataFrame(\n",
    "    scaler.inverse_transform(df_standard),\n",
    "    index=df_standard.index,\n",
    "    columns=scaler.feature_names_in_\n",
    ")\n",
    "\n",
    "# refit scaled data without outliers\n",
    "scaler = StandardScaler().fit(df_standard)\n",
    "df_standard = pd.DataFrame(\n",
    "    scaler.transform(df_standard),\n",
    "    index=df_standard.index,\n",
    "    columns=scaler.feature_names_in_\n",
    ")\n",
    "\n",
    "# reintroduce special features\n",
    "df_standard = df_standard.join(df_compressed[special_features])\n",
    "if show_intermediate_results:\n",
    "    df_standard.describe()"
   ]
  },
  {
   "cell_type": "code",
   "execution_count": 28,
   "id": "667ee2c1-980c-48ac-a958-82a6880ec63f",
   "metadata": {},
   "outputs": [],
   "source": [
    "df_standard.to_csv('df_standard.csv')"
   ]
  },
  {
   "cell_type": "markdown",
   "id": "5cba65c8-9625-4d2a-bd4a-c62dcf1cb839",
   "metadata": {
    "jp-MarkdownHeadingCollapsed": true,
    "tags": []
   },
   "source": [
    "### User Selection"
   ]
  },
  {
   "cell_type": "raw",
   "id": "3fedd162-9a22-4355-86ab-d426882c5c48",
   "metadata": {},
   "source": [
    "df_standard = pd.read_csv('df_standard.csv', index_col=0)\n",
    "if 'engagement' not in special_features:\n",
    "    special_features.append('engagement')\n",
    "df_standard"
   ]
  },
  {
   "cell_type": "code",
   "execution_count": 29,
   "id": "05efdeb0-93b1-4f76-8271-da8cf94a57b4",
   "metadata": {},
   "outputs": [
    {
     "data": {
      "image/png": "[encoded data removed]",
      "text/plain": [
       "<Figure size 640x480 with 1 Axes>"
      ]
     },
     "metadata": {},
     "output_type": "display_data"
    }
   ],
   "source": [
    "# balance engagement on its lowest bin \n",
    "df_standard['10_bins_engagement'] = df_standard.engagement.round(1)\n",
    "if '10_bins_engagement' not in special_features:\n",
    "    special_features.append('10_bins_engagement')\n",
    "# train test split to avoid information leak\n",
    "df_standard_train, df_standard_test = model_selection.train_test_split(df_standard, test_size=test_fraction, random_state=random_seed)\n",
    "# balance engagement on its lowest bin\n",
    "min_engagement_bin = df_standard_train['10_bins_engagement'].value_counts().min()\n",
    "df_standard_train = df_standard_train.groupby('10_bins_engagement').sample(min_engagement_bin, replace=False, random_state=random_seed)\n",
    "if show_intermediate_results:\n",
    "    df_standard_train.engagement.hist(bins=100)"
   ]
  },
  {
   "cell_type": "code",
   "execution_count": 30,
   "id": "8492bf60-b519-4693-991d-9ccdc9ebe561",
   "metadata": {},
   "outputs": [
    {
     "name": "stdout",
     "output_type": "stream",
     "text": [
      "custom_user_id\n",
      "0.0           8407\n",
      "1811068.0       52\n",
      "1884228.0       94\n",
      "9985745.0       57\n",
      "10474852.0     115\n",
      "11348942.0      65\n",
      "11430219.0      79\n",
      "Name: engagement, dtype: int64\n"
     ]
    }
   ],
   "source": [
    "# select users to model\n",
    "n_impressions_per_user =  df_standard_train.groupby('custom_user_id').engagement.count()\n",
    "digital_twin_users = n_impressions_per_user[n_impressions_per_user >= min_impressions]\n",
    "df_standard_train = df_standard_train[df_standard_train.custom_user_id.isin(digital_twin_users.index)]\n",
    "df_standard_test = df_standard_test[df_standard_test.custom_user_id.isin(digital_twin_users.index)]\n",
    "if show_intermediate_results:\n",
    "    print(digital_twin_users)"
   ]
  },
  {
   "cell_type": "code",
   "execution_count": 31,
   "id": "468bf9b7-da5e-48e7-9106-c3debdfe6127",
   "metadata": {},
   "outputs": [
    {
     "data": {
      "image/png": "[encoded data removed]",
      "text/plain": [
       "<Figure size 1500x1000 with 9 Axes>"
      ]
     },
     "metadata": {},
     "output_type": "display_data"
    }
   ],
   "source": [
    "# sample users to have the same number of impressions TODO the train size could probably be smaller (or like n * min_impressions)\n",
    "df_standard_train = df_standard_train.groupby('custom_user_id').sample(min_impressions * 10, replace=True, random_state=random_seed)\n",
    "if show_intermediate_results:\n",
    "    df_standard_train.hist('engagement', bins=100, by='custom_user_id', figsize=(15, 10))\n",
    "    df_standard_train.custom_user_id.value_counts()"
   ]
  },
  {
   "cell_type": "markdown",
   "id": "5439c3cd-a0ed-4d65-bcc8-388183104b3c",
   "metadata": {
    "jp-MarkdownHeadingCollapsed": true,
    "tags": []
   },
   "source": [
    "### Feature selection (run from here when comparing feature importance threshold)"
   ]
  },
  {
   "cell_type": "code",
   "execution_count": 32,
   "id": "4a8d7fbe-2756-4108-bf70-d985be90f488",
   "metadata": {},
   "outputs": [],
   "source": [
    "# X, y split\n",
    "X_train = df_standard_train.drop(columns=special_features)\n",
    "X_test = df_standard_test.drop(columns=special_features)\n",
    "y_train = df_standard_train.engagement\n",
    "y_test = df_standard_test.engagement"
   ]
  },
  {
   "cell_type": "code",
   "execution_count": 33,
   "id": "02126743-a30c-4914-84c9-ebe45b23c2a9",
   "metadata": {},
   "outputs": [
    {
     "name": "stdout",
     "output_type": "stream",
     "text": [
      "video_popularity      0.406290\n",
      "hour                  0.176080\n",
      "video_duration        0.070071\n",
      "latency_min           0.047996\n",
      "playing_mean          0.024019\n",
      "qualitychange_sum     0.022515\n",
      "startup_delay         0.020370\n",
      "playing_sum           0.018391\n",
      "playing_std           0.018142\n",
      "latency_skew          0.014115\n",
      "bitrate_mean          0.013487\n",
      "latency_mean          0.012996\n",
      "playing_max           0.012737\n",
      "qualitychange_mean    0.011221\n",
      "latency_median        0.011110\n",
      "dtype: float64\n"
     ]
    }
   ],
   "source": [
    "# dividing feature importances by their sum of correlation coefficients, we highlight features that provide a valuable unique contribution to the prediction\n",
    "feature_selector = RandomForestRegressor(n_jobs=-1, random_state=random_seed).fit(X_train, y_train)\n",
    "feature_importances = pd.Series(feature_selector.feature_importances_, index=feature_selector.feature_names_in_)\n",
    "feature_importances = (feature_importances / np.abs(df_standard_train.corr(method='spearman', numeric_only=True).sum()))\n",
    "feature_importances = feature_importances.dropna().sort_values(ascending=False)\n",
    "# normalize feature importances so the threshold can be set a percentage\n",
    "feature_importances /= feature_importances.sum()\n",
    "# selecting features with high enough contribution\n",
    "important_features = feature_importances[feature_importances > feature_importance_threshold]\n",
    "if show_intermediate_results:\n",
    "    print(important_features)"
   ]
  },
  {
   "cell_type": "code",
   "execution_count": 34,
   "id": "87af92bd-d281-4619-b83e-f91d29c51836",
   "metadata": {
    "tags": []
   },
   "outputs": [
    {
     "name": "stdout",
     "output_type": "stream",
     "text": [
      "['custom_user_id', 'impression_id', 'video_id', 'engagement', '10_bins_engagement', 'video_popularity', 'hour', 'video_duration', 'latency_min', 'playing_mean', 'qualitychange_sum', 'startup_delay', 'playing_sum', 'playing_std', 'latency_skew', 'bitrate_mean', 'latency_mean', 'playing_max', 'qualitychange_mean', 'latency_median']\n"
     ]
    }
   ],
   "source": [
    "# drop non important features\n",
    "model_features = special_features + list(important_features.index)\n",
    "df_standard_train = df_standard_train[model_features]\n",
    "df_standard_test = df_standard_test[model_features]\n",
    "if show_intermediate_results:\n",
    "    print(model_features)"
   ]
  },
  {
   "cell_type": "markdown",
   "id": "9bbb8c1a-1e43-46f1-9aea-65c368cff4b8",
   "metadata": {
    "tags": []
   },
   "source": [
    "## XGBoost"
   ]
  },
  {
   "cell_type": "raw",
   "id": "2230c337-d8c8-491d-8ae9-d63d24aca348",
   "metadata": {
    "jupyter": {
     "source_hidden": true
    },
    "tags": []
   },
   "source": [
    "# TODO: write custom halving grid search to allow for DMatrix inputs and setting more parameters like the scoring \n",
    "# or combination of parameters that tradeoff among each other (like neuron per layer vs number of layers)\n",
    "# TODO: other models, bigger models"
   ]
  },
  {
   "cell_type": "code",
   "execution_count": 35,
   "id": "d51a6018-06ff-45b9-b309-7924e7d3fd57",
   "metadata": {
    "jupyter": {
     "source_hidden": true
    },
    "tags": []
   },
   "outputs": [],
   "source": [
    "sensitivities_xgb = pd.DataFrame(\n",
    "    columns=df_standard_train.drop(columns=special_features).columns + ['_sensitivity'],   \n",
    "    index=df_standard_train.custom_user_id.unique(),\n",
    "    dtype=float,\n",
    ")\n",
    "results_xgb = pd.DataFrame(\n",
    "    columns=[ \n",
    "        'model',\n",
    "        'training_time',\n",
    "        'MAE',\n",
    "    ],\n",
    "    index=df_standard_train.custom_user_id.unique()\n",
    ")\n",
    "predictions_xgb = pd.DataFrame(\n",
    "    columns=[\n",
    "        'true_value',\n",
    "        'sensitivity_models_prediction',\n",
    "        'benchmark_model_prediction',\n",
    "        'engagement_model_prediction',\n",
    "    ],\n",
    "    index=df_standard_test.index\n",
    ")\n",
    "predictions_xgb.true_value = df_standard_test.engagement"
   ]
  },
  {
   "cell_type": "markdown",
   "id": "9849e2e1-ca61-4da2-825f-2d1329f9c759",
   "metadata": {
    "tags": []
   },
   "source": [
    "### Sensitivity Models"
   ]
  },
  {
   "cell_type": "code",
   "execution_count": 36,
   "id": "890ec911-151b-4aed-ba80-b3cc954d7be6",
   "metadata": {
    "jupyter": {
     "source_hidden": true
    },
    "tags": []
   },
   "outputs": [
    {
     "name": "stdout",
     "output_type": "stream",
     "text": [
      "sensitivity models trained in 96.87742757797241\n",
      "average MAE of sensitivity models: 0.2842907266375791\n"
     ]
    }
   ],
   "source": [
    "for user in df_standard_train.custom_user_id.unique():\n",
    "    # X, y of user\n",
    "    X_train = df_standard_train[df_standard_train.custom_user_id == user].drop(columns=special_features)\n",
    "    X_test = df_standard_test[df_standard_test.custom_user_id == user].drop(columns=special_features)\n",
    "    y_train = df_standard_train[df_standard_train.custom_user_id == user].engagement\n",
    "    y_test = df_standard_test[df_standard_test.custom_user_id == user].engagement\n",
    "    # hyperparameter optimization and model training\n",
    "    start_time = time.time()\n",
    "    search_xgb = halving_search(model_xgb, parameters_xgb).fit(X_train, y_train)\n",
    "    # fill predictions\n",
    "    y_pred = pd.Series(search_xgb.best_estimator_.predict(X_test), index=y_test.index)\n",
    "    for i, pred in y_pred.items():\n",
    "        predictions_xgb.at[i, 'sensitivity_models_prediction'] = pred\n",
    "    # fill results\n",
    "    results_xgb.at[user, 'model'] = search_xgb.best_estimator_\n",
    "    results_xgb.at[user, 'training_time'] = time.time() - start_time\n",
    "    results_xgb.at[user, 'MAE'] = mean_absolute_error(y_test, y_pred)\n",
    "    # fill sensitivities\n",
    "    for i, sensitivity in enumerate(results_xgb.loc[user, 'model'].feature_names_in_):\n",
    "        sensitivities_xgb.at[user, sensitivity + '_sensitivity'] = results_xgb.loc[user, 'model'].feature_importances_[i]    \n",
    "results_xgb = results_xgb.merge(sensitivities_xgb, left_index=True, right_index=True)\n",
    "print(f'sensitivity models trained in {results_xgb.training_time.sum()}')\n",
    "print(f'average MAE of sensitivity models: {results_xgb.MAE.mean()}')\n",
    "if show_intermediate_results:\n",
    "    results_xgb"
   ]
  },
  {
   "cell_type": "markdown",
   "id": "42a8506a-ae9c-4d9f-845f-cf8f8025acec",
   "metadata": {
    "tags": []
   },
   "source": [
    "### Engagement Model"
   ]
  },
  {
   "cell_type": "code",
   "execution_count": 37,
   "id": "7b6f5b99-e149-4e21-9889-9cdbbba04d3d",
   "metadata": {
    "jupyter": {
     "source_hidden": true
    },
    "tags": []
   },
   "outputs": [
    {
     "name": "stdout",
     "output_type": "stream",
     "text": [
      "Time for model training: 7.431008815765381\n",
      "MAE of engagement model without sensitivities: 0.3769725974334187\n"
     ]
    }
   ],
   "source": [
    "# first run a banchmark model with the same architecture but no sensitivities\n",
    "# X, y split\n",
    "X_train = df_standard_train.drop(columns=special_features)\n",
    "X_test = df_standard_test.drop(columns=special_features)\n",
    "y_train = df_standard_train.engagement\n",
    "y_test = df_standard_test.engagement\n",
    "# hyperparameter optimization and model training\n",
    "start_time = time.time()\n",
    "search_xgb = halving_search(model_xgb, parameters_xgb).fit(X_train, y_train)\n",
    "# fill predictions\n",
    "y_pred = pd.Series(search_xgb.best_estimator_.predict(X_test), index=y_test.index)\n",
    "predictions_xgb.benchmark_model_prediction = y_pred\n",
    "print(f'Time for model training: {time.time() - start_time}')\n",
    "print(f'MAE of engagement model without sensitivities: {mean_absolute_error(y_test, y_pred)}')"
   ]
  },
  {
   "cell_type": "code",
   "execution_count": 38,
   "id": "4e0aa4ac-3eda-4ed2-9415-9e7d9acfca9a",
   "metadata": {
    "jupyter": {
     "source_hidden": true
    },
    "tags": []
   },
   "outputs": [
    {
     "name": "stdout",
     "output_type": "stream",
     "text": [
      "Time for model training: 9.50321340560913\n",
      "MAE of engagement model with sensitivities: 0.37536028000751614\n"
     ]
    }
   ],
   "source": [
    "# now run the same model architecture, but add the preferences as features so you don't need to separate users because their differences are encoded in their sensitivities\n",
    "df_digitwise_train = df_standard_train.merge(sensitivities_xgb, left_on='custom_user_id', right_index=True)\n",
    "df_digitwise_test = df_standard_test.merge(sensitivities_xgb, left_on='custom_user_id', right_index=True)\n",
    "\n",
    "# what if instead of merging, I multiply them by their features\n",
    "#df_digitwise_train = df_standard_train / sensitivities_xgb\n",
    "\n",
    "# X, y split\n",
    "X_train = df_digitwise_train.drop(columns=special_features)\n",
    "X_test = df_digitwise_test.drop(columns=special_features)\n",
    "y_train = df_digitwise_train.engagement\n",
    "y_test = df_digitwise_test.engagement\n",
    "# hyperparameter optimization and model training\n",
    "start_time = time.time()\n",
    "search_xgb = halving_search(model_xgb, parameters_xgb).fit(X_train, y_train)\n",
    "# fill predictions\n",
    "y_pred = pd.Series(search_xgb.best_estimator_.predict(X_test), index=y_test.index)\n",
    "predictions_xgb.engagement_model_prediction = y_pred\n",
    "print(f'Time for model training: {time.time() - start_time}')\n",
    "print(f'MAE of engagement model with sensitivities: {mean_absolute_error(y_test, y_pred)}')\n",
    "if show_intermediate_results:\n",
    "    predictions_xgb"
   ]
  },
  {
   "cell_type": "markdown",
   "id": "4a56a260-a00d-46de-8903-8b5b37947d98",
   "metadata": {
    "tags": []
   },
   "source": [
    "## Neural Network"
   ]
  },
  {
   "cell_type": "code",
   "execution_count": 39,
   "id": "d9592789-37e8-457f-9b2b-19726d85f061",
   "metadata": {
    "jupyter": {
     "source_hidden": true
    },
    "tags": []
   },
   "outputs": [],
   "source": [
    "sensitivities_nn = pd.DataFrame(\n",
    "    columns=df_standard_train.drop(columns=special_features).columns + ['_sensitivity'],   \n",
    "    index=df_standard_train.custom_user_id.unique(),\n",
    "    dtype=float,\n",
    ")\n",
    "results_nn = pd.DataFrame(\n",
    "    columns=[ \n",
    "        'model',\n",
    "        'training_time',\n",
    "        'MAE',\n",
    "    ],\n",
    "    index=df_standard_train.custom_user_id.unique()\n",
    ")\n",
    "predictions_nn = pd.DataFrame(\n",
    "    columns=[\n",
    "        'true_value',\n",
    "        'sensitivity_models_prediction',\n",
    "        'benchmark_model_prediction',\n",
    "        'engagement_model_prediction',\n",
    "    ],\n",
    "    index=df_standard_test.index\n",
    ")\n",
    "predictions_nn.true_value = df_standard_test.engagement"
   ]
  },
  {
   "cell_type": "markdown",
   "id": "6890a571-5393-42b9-889c-66757db3e9ed",
   "metadata": {
    "tags": []
   },
   "source": [
    "### Sensitivity Models"
   ]
  },
  {
   "cell_type": "code",
   "execution_count": 40,
   "id": "ba3f8dce-e0fa-4a77-b4b8-201e991f423d",
   "metadata": {
    "jupyter": {
     "source_hidden": true
    },
    "tags": []
   },
   "outputs": [
    {
     "name": "stdout",
     "output_type": "stream",
     "text": [
      "sensitivity models trained in 36.856743812561035\n",
      "average MAE of sensitivity models: 0.40413621719433485\n"
     ]
    }
   ],
   "source": [
    "for user in df_standard_train.custom_user_id.unique():\n",
    "    # X, y of user\n",
    "    X_train = df_standard_train[df_standard_train.custom_user_id == user].drop(columns=special_features)\n",
    "    X_test = df_standard_test[df_standard_test.custom_user_id == user].drop(columns=special_features)\n",
    "    y_train = df_standard_train[df_standard_train.custom_user_id == user].engagement\n",
    "    y_test = df_standard_test[df_standard_test.custom_user_id == user].engagement\n",
    "    # hyperparameter optimization and model training\n",
    "    start_time = time.time()\n",
    "    search_nn = halving_search(model_nn, parameters_nn).fit(X_train, y_train)\n",
    "    # fill predictions\n",
    "    y_pred = pd.Series(search_nn.best_estimator_.predict(X_test), index=y_test.index)\n",
    "    for i, pred in y_pred.items():\n",
    "        predictions_nn.at[i, 'sensitivity_models_prediction'] = pred\n",
    "    # fill results\n",
    "    results_nn.at[user, 'model'] = search_nn.best_estimator_\n",
    "    results_nn.at[user, 'training_time'] = time.time() - start_time\n",
    "    results_nn.at[user, 'MAE'] = mean_absolute_error(y_test, y_pred)\n",
    "    # fill sensitivities\n",
    "    importances = permutation_importance(\n",
    "        results_nn.at[user, 'model'], \n",
    "        X_train, \n",
    "        y_train,\n",
    "        n_jobs=-1,\n",
    "    ).importances_mean\n",
    "    for i, sensitivity in enumerate(results_nn.loc[user, 'model'].feature_names_in_):\n",
    "        sensitivities_nn.at[user, sensitivity + '_sensitivity'] = importances[i]\n",
    "results_nn = results_nn.merge(sensitivities_nn, left_index=True, right_index=True)\n",
    "print(f'sensitivity models trained in {results_nn.training_time.sum()}')\n",
    "print(f'average MAE of sensitivity models: {results_nn.MAE.mean()}')\n",
    "if show_intermediate_results:\n",
    "    results_nn"
   ]
  },
  {
   "cell_type": "markdown",
   "id": "5d11432d-736e-42c6-82a9-f8b0e1a51f97",
   "metadata": {
    "tags": []
   },
   "source": [
    "### Engagement Model"
   ]
  },
  {
   "cell_type": "code",
   "execution_count": 41,
   "id": "d246215e-0fe7-4185-940a-3cb174d0c4ea",
   "metadata": {
    "jupyter": {
     "source_hidden": true
    },
    "tags": []
   },
   "outputs": [
    {
     "name": "stdout",
     "output_type": "stream",
     "text": [
      "Time for model training: 10.703796148300171\n",
      "MAE of engagement model without sensitivities: 0.4877915597023618\n"
     ]
    }
   ],
   "source": [
    "# first run a banchmark model with the same architecture but no sensitivities\n",
    "# X, y split\n",
    "X_train = df_standard_train.drop(columns=special_features)\n",
    "X_test = df_standard_test.drop(columns=special_features)\n",
    "y_train = df_standard_train.engagement\n",
    "y_test = df_standard_test.engagement\n",
    "# hyperparameter optimization and model training\n",
    "start_time = time.time()\n",
    "search_nn = halving_search(model_nn, parameters_nn).fit(X_train, y_train)\n",
    "# fill predictions\n",
    "y_pred = pd.Series(search_nn.best_estimator_.predict(X_test), index=y_test.index)\n",
    "predictions_nn.benchmark_model_prediction = y_pred\n",
    "print(f'Time for model training: {time.time() - start_time}')\n",
    "print(f'MAE of engagement model without sensitivities: {mean_absolute_error(y_test, y_pred)}')"
   ]
  },
  {
   "cell_type": "code",
   "execution_count": 42,
   "id": "036156f5-9c3b-4357-b682-9db7d3d83464",
   "metadata": {
    "jupyter": {
     "source_hidden": true
    },
    "tags": []
   },
   "outputs": [
    {
     "name": "stdout",
     "output_type": "stream",
     "text": [
      "Time for model training: 7.531790733337402\n",
      "MAE of engagement model with sensitivities: 0.4893279345299435\n"
     ]
    }
   ],
   "source": [
    "# now run the same model architecture, but add the preferences as features so you don't need to separate users because their differences are encoded in their sensitivities\n",
    "df_digitwise_train = df_standard_train.merge(sensitivities_nn, left_on='custom_user_id', right_index=True)\n",
    "df_digitwise_test = df_standard_test.merge(sensitivities_nn, left_on='custom_user_id', right_index=True)\n",
    "\n",
    "# X, y split\n",
    "X_train = df_digitwise_train.drop(columns=special_features)\n",
    "X_test = df_digitwise_test.drop(columns=special_features)\n",
    "y_train = df_digitwise_train.engagement\n",
    "y_test = df_digitwise_test.engagement\n",
    "# hyperparameter optimization and model training\n",
    "start_time = time.time()\n",
    "search_nn = halving_search(model_nn, parameters_nn).fit(X_train, y_train)\n",
    "# fill predictions\n",
    "y_pred = pd.Series(search_nn.best_estimator_.predict(X_test), index=y_test.index)\n",
    "predictions_nn.engagement_model_prediction = y_pred\n",
    "print(f'Time for model training: {time.time() - start_time}')\n",
    "print(f'MAE of engagement model with sensitivities: {mean_absolute_error(y_test, y_pred)}')\n",
    "if show_intermediate_results:\n",
    "    predictions_nn"
   ]
  },
  {
   "cell_type": "markdown",
   "id": "9f6446f5-7cbd-4fbe-bdf4-b8546d39af34",
   "metadata": {
    "tags": []
   },
   "source": [
    "## Benchmarks"
   ]
  },
  {
   "cell_type": "markdown",
   "id": "f41d2689-76fd-4f25-8d94-565cf4cb1c35",
   "metadata": {
    "tags": []
   },
   "source": [
    "### Balachandran, 70% accuracy on 10% bins"
   ]
  },
  {
   "cell_type": "code",
   "execution_count": 43,
   "id": "6df844fe-65ce-46b3-abb8-fd8f6ce5d8fd",
   "metadata": {
    "jupyter": {
     "source_hidden": true
    },
    "tags": []
   },
   "outputs": [
    {
     "data": {
      "text/plain": [
       "0.19537998641172474"
      ]
     },
     "execution_count": 43,
     "metadata": {},
     "output_type": "execute_result"
    }
   ],
   "source": [
    "from sklearn.metrics import accuracy_score\n",
    "# percentage of impressions where the difference is less than 10%\n",
    "(np.abs(predictions_xgb.true_value - predictions_xgb.engagement_model_prediction) <= 0.1).mean()"
   ]
  },
  {
   "cell_type": "markdown",
   "id": "a2ab559f-2506-451b-90e4-85934339cddc",
   "metadata": {
    "tags": []
   },
   "source": [
    "### Shafiq, 87% accuracy on binary \"engagement\" (whether a user completely downloads a video) after 10 seconds"
   ]
  },
  {
   "cell_type": "code",
   "execution_count": 44,
   "id": "fcc52b2e-6c96-4dc9-b9a4-99dba497caaf",
   "metadata": {
    "jupyter": {
     "source_hidden": true
    },
    "tags": []
   },
   "outputs": [
    {
     "data": {
      "text/plain": [
       "0.8767349315733282"
      ]
     },
     "execution_count": 44,
     "metadata": {},
     "output_type": "execute_result"
    }
   ],
   "source": [
    "# set a threshold for what consitutes a \"completely downloads a video\"\n",
    "complete_download_threshold = 0.7\n",
    "# calculate accuracy for binary engagement based on threshold\n",
    "accuracy_score(\n",
    "    predictions_xgb.true_value > complete_download_threshold,\n",
    "    predictions_xgb.engagement_model_prediction > complete_download_threshold\n",
    ")"
   ]
  },
  {
   "cell_type": "markdown",
   "id": "2195a4fa-b278-42ef-95e9-b0dac8f9a6bf",
   "metadata": {
    "tags": []
   },
   "source": [
    "### Lebreton, predict for each video % of people that quit \"midway through\", performance is evaluated with PCC (0.8776) and RMSE (0.09421)"
   ]
  },
  {
   "cell_type": "code",
   "execution_count": 45,
   "id": "e1a65bd5-ef9c-4152-a4e3-8e661307d094",
   "metadata": {
    "jupyter": {
     "source_hidden": true
    },
    "tags": []
   },
   "outputs": [
    {
     "name": "stdout",
     "output_type": "stream",
     "text": [
      "PCC: 0.2604050363107507\n",
      "RMSE: 0.7390207076450929\n"
     ]
    }
   ],
   "source": [
    "midway_quit_threshold = 0.5\n",
    "# merge predictions and video_id (3-way merge/join)\n",
    "lebreton_predictions = df_standard_test.join(\n",
    "    predictions_xgb\n",
    ")\n",
    "lebreton_predictions = lebreton_predictions[['engagement', 'engagement_model_prediction']] > midway_quit_threshold\n",
    "if show_intermediate_results:\n",
    "    lebreton_predictions\n",
    "    \n",
    "# calculate PCC\n",
    "print(f'PCC: {lebreton_predictions.engagement.corr(lebreton_predictions.engagement_model_prediction)}')\n",
    "# calculate RMSE (bool not converted automatically)\n",
    "from sklearn.metrics import mean_squared_error\n",
    "lebreton_predictions = lebreton_predictions.replace({True: 1, False: 0})\n",
    "print(f'RMSE: {mean_squared_error(lebreton_predictions.engagement, lebreton_predictions.engagement_model_prediction, squared = False)}')"
   ]
  },
  {
   "cell_type": "markdown",
   "id": "87cd04fd-4dc2-43b7-b862-0a320c807e78",
   "metadata": {
    "tags": []
   },
   "source": [
    "## Having developed a trustworthy model, we compute the engagement score for CAdViSE sessions"
   ]
  },
  {
   "cell_type": "code",
   "execution_count": 46,
   "id": "e57d2256-ba13-4820-b2cb-5df7a7e853b0",
   "metadata": {},
   "outputs": [
    {
     "data": {
      "text/plain": [
       "custom_user_id  video_id\n",
       "3751925.0       1621753        1\n",
       "8367951.0       1616088        1\n",
       "                1616089        1\n",
       "                1619655        1\n",
       "                1621754        1\n",
       "                            ... \n",
       "0.0             1600482     2930\n",
       "                1592627     3225\n",
       "                1606422     3548\n",
       "                1600466     4005\n",
       "                1600481     5270\n",
       "Name: impression_id, Length: 249430, dtype: int64"
      ]
     },
     "execution_count": 46,
     "metadata": {},
     "output_type": "execute_result"
    }
   ],
   "source": [
    "# find sessions to match\n",
    "df_standard.groupby(['custom_user_id', 'video_id']).impression_id.count().sort_values()"
   ]
  },
  {
   "cell_type": "code",
   "execution_count": 47,
   "id": "5380d9c0-c3eb-4f63-939e-872202ba3ae0",
   "metadata": {},
   "outputs": [],
   "source": [
    "df_standard = df_standard[df_standard.video_id != 1575150]"
   ]
  },
  {
   "cell_type": "code",
   "execution_count": 48,
   "id": "b06da2d6-cc1a-42bf-84e5-3dd09a76a0d4",
   "metadata": {},
   "outputs": [
    {
     "data": {
      "text/html": [
       "<div>\n",
       "<style scoped>\n",
       "    .dataframe tbody tr th:only-of-type {\n",
       "        vertical-align: middle;\n",
       "    }\n",
       "\n",
       "    .dataframe tbody tr th {\n",
       "        vertical-align: top;\n",
       "    }\n",
       "\n",
       "    .dataframe thead th {\n",
       "        text-align: right;\n",
       "    }\n",
       "</style>\n",
       "<table border=\"1\" class=\"dataframe\">\n",
       "  <thead>\n",
       "    <tr style=\"text-align: right;\">\n",
       "      <th></th>\n",
       "      <th>video_duration</th>\n",
       "      <th>device_class</th>\n",
       "      <th>video_popularity</th>\n",
       "      <th>hour</th>\n",
       "      <th>startup_delay</th>\n",
       "      <th>bitrate_mean</th>\n",
       "      <th>bitrate_std</th>\n",
       "      <th>bitrate_skew</th>\n",
       "      <th>bitrate_min</th>\n",
       "      <th>bitrate_median</th>\n",
       "      <th>bitrate_max</th>\n",
       "      <th>resolution_mean</th>\n",
       "      <th>resolution_std</th>\n",
       "      <th>resolution_skew</th>\n",
       "      <th>resolution_min</th>\n",
       "      <th>resolution_median</th>\n",
       "      <th>resolution_max</th>\n",
       "      <th>latency_mean</th>\n",
       "      <th>latency_std</th>\n",
       "      <th>latency_skew</th>\n",
       "      <th>latency_min</th>\n",
       "      <th>latency_median</th>\n",
       "      <th>latency_max</th>\n",
       "      <th>qualitychange_mean</th>\n",
       "      <th>qualitychange_std</th>\n",
       "      <th>qualitychange_skew</th>\n",
       "      <th>qualitychange_max</th>\n",
       "      <th>qualitychange_sum</th>\n",
       "      <th>paused_mean</th>\n",
       "      <th>paused_std</th>\n",
       "      <th>paused_skew</th>\n",
       "      <th>paused_max</th>\n",
       "      <th>paused_sum</th>\n",
       "      <th>playing_mean</th>\n",
       "      <th>playing_std</th>\n",
       "      <th>playing_skew</th>\n",
       "      <th>playing_max</th>\n",
       "      <th>playing_sum</th>\n",
       "      <th>seeking_mean</th>\n",
       "      <th>seeking_std</th>\n",
       "      <th>seeking_skew</th>\n",
       "      <th>seeking_max</th>\n",
       "      <th>seeking_sum</th>\n",
       "      <th>rebuffering_mean</th>\n",
       "      <th>rebuffering_std</th>\n",
       "      <th>rebuffering_skew</th>\n",
       "      <th>rebuffering_max</th>\n",
       "      <th>rebuffering_sum</th>\n",
       "      <th>custom_user_id</th>\n",
       "      <th>impression_id</th>\n",
       "      <th>video_id</th>\n",
       "      <th>engagement</th>\n",
       "      <th>10_bins_engagement</th>\n",
       "    </tr>\n",
       "  </thead>\n",
       "  <tbody>\n",
       "    <tr>\n",
       "      <th>17951</th>\n",
       "      <td>-0.235602</td>\n",
       "      <td>0.787094</td>\n",
       "      <td>-1.198869</td>\n",
       "      <td>1.057896</td>\n",
       "      <td>0.137723</td>\n",
       "      <td>0.324332</td>\n",
       "      <td>0.448076</td>\n",
       "      <td>-0.414588</td>\n",
       "      <td>-0.428004</td>\n",
       "      <td>0.690514</td>\n",
       "      <td>0.335563</td>\n",
       "      <td>0.261298</td>\n",
       "      <td>0.412973</td>\n",
       "      <td>-0.320536</td>\n",
       "      <td>-0.465914</td>\n",
       "      <td>0.674016</td>\n",
       "      <td>0.286828</td>\n",
       "      <td>-0.018828</td>\n",
       "      <td>-0.083365</td>\n",
       "      <td>1.076084</td>\n",
       "      <td>-0.015516</td>\n",
       "      <td>-0.015519</td>\n",
       "      <td>-0.044626</td>\n",
       "      <td>0.633626</td>\n",
       "      <td>0.810984</td>\n",
       "      <td>0.879381</td>\n",
       "      <td>0.916715</td>\n",
       "      <td>0.977468</td>\n",
       "      <td>-0.083136</td>\n",
       "      <td>-0.086987</td>\n",
       "      <td>1.227906</td>\n",
       "      <td>-0.087455</td>\n",
       "      <td>-0.090307</td>\n",
       "      <td>-0.189016</td>\n",
       "      <td>-0.114727</td>\n",
       "      <td>0.074780</td>\n",
       "      <td>-0.113059</td>\n",
       "      <td>-0.295936</td>\n",
       "      <td>-0.066929</td>\n",
       "      <td>-0.075400</td>\n",
       "      <td>-0.472247</td>\n",
       "      <td>-0.075713</td>\n",
       "      <td>-0.078578</td>\n",
       "      <td>-0.049928</td>\n",
       "      <td>-0.046242</td>\n",
       "      <td>-0.230391</td>\n",
       "      <td>-0.048735</td>\n",
       "      <td>-0.062071</td>\n",
       "      <td>8254984.0</td>\n",
       "      <td>034e75b1-d80d-42ba-bd02-a7d8b0e34e86</td>\n",
       "      <td>1619994</td>\n",
       "      <td>0.000933</td>\n",
       "      <td>0.0</td>\n",
       "    </tr>\n",
       "    <tr>\n",
       "      <th>25170</th>\n",
       "      <td>-0.235602</td>\n",
       "      <td>0.787094</td>\n",
       "      <td>-1.198869</td>\n",
       "      <td>-0.177724</td>\n",
       "      <td>-0.169386</td>\n",
       "      <td>0.669463</td>\n",
       "      <td>-0.104434</td>\n",
       "      <td>-1.365964</td>\n",
       "      <td>-0.428004</td>\n",
       "      <td>0.690514</td>\n",
       "      <td>0.335563</td>\n",
       "      <td>0.656843</td>\n",
       "      <td>-0.168837</td>\n",
       "      <td>-1.256562</td>\n",
       "      <td>-0.465914</td>\n",
       "      <td>0.674016</td>\n",
       "      <td>0.286828</td>\n",
       "      <td>-0.019157</td>\n",
       "      <td>-0.092880</td>\n",
       "      <td>-0.907866</td>\n",
       "      <td>-0.015207</td>\n",
       "      <td>-0.015193</td>\n",
       "      <td>-0.046731</td>\n",
       "      <td>-0.017839</td>\n",
       "      <td>0.229936</td>\n",
       "      <td>1.751807</td>\n",
       "      <td>0.916715</td>\n",
       "      <td>0.977468</td>\n",
       "      <td>-0.089968</td>\n",
       "      <td>-0.094245</td>\n",
       "      <td>0.735647</td>\n",
       "      <td>-0.093516</td>\n",
       "      <td>-0.095528</td>\n",
       "      <td>0.106505</td>\n",
       "      <td>1.230519</td>\n",
       "      <td>1.292174</td>\n",
       "      <td>1.938365</td>\n",
       "      <td>0.346172</td>\n",
       "      <td>1.052692</td>\n",
       "      <td>1.409224</td>\n",
       "      <td>2.241918</td>\n",
       "      <td>1.416965</td>\n",
       "      <td>1.412882</td>\n",
       "      <td>-0.049928</td>\n",
       "      <td>-0.046242</td>\n",
       "      <td>-0.230391</td>\n",
       "      <td>-0.048735</td>\n",
       "      <td>-0.062071</td>\n",
       "      <td>8254984.0</td>\n",
       "      <td>04a147eb-0d07-4674-9757-18701516aa32</td>\n",
       "      <td>1619994</td>\n",
       "      <td>0.035967</td>\n",
       "      <td>0.0</td>\n",
       "    </tr>\n",
       "    <tr>\n",
       "      <th>25397</th>\n",
       "      <td>-0.235602</td>\n",
       "      <td>0.787094</td>\n",
       "      <td>-1.198869</td>\n",
       "      <td>1.057896</td>\n",
       "      <td>0.047327</td>\n",
       "      <td>-1.401324</td>\n",
       "      <td>-1.200765</td>\n",
       "      <td>0.531786</td>\n",
       "      <td>-0.428004</td>\n",
       "      <td>-1.315121</td>\n",
       "      <td>-1.662043</td>\n",
       "      <td>-1.716424</td>\n",
       "      <td>-1.323307</td>\n",
       "      <td>0.610570</td>\n",
       "      <td>-0.465914</td>\n",
       "      <td>-1.612517</td>\n",
       "      <td>-2.121732</td>\n",
       "      <td>-0.019329</td>\n",
       "      <td>-0.091834</td>\n",
       "      <td>0.657124</td>\n",
       "      <td>-0.015403</td>\n",
       "      <td>-0.015428</td>\n",
       "      <td>-0.046731</td>\n",
       "      <td>-0.452149</td>\n",
       "      <td>-0.769908</td>\n",
       "      <td>-0.621853</td>\n",
       "      <td>-0.811360</td>\n",
       "      <td>-0.694642</td>\n",
       "      <td>-0.090141</td>\n",
       "      <td>-0.094360</td>\n",
       "      <td>0.680470</td>\n",
       "      <td>-0.093728</td>\n",
       "      <td>-0.096325</td>\n",
       "      <td>-0.425869</td>\n",
       "      <td>-0.495557</td>\n",
       "      <td>0.716360</td>\n",
       "      <td>-0.540817</td>\n",
       "      <td>-0.438980</td>\n",
       "      <td>-0.066929</td>\n",
       "      <td>-0.075400</td>\n",
       "      <td>-0.472247</td>\n",
       "      <td>-0.075713</td>\n",
       "      <td>-0.078578</td>\n",
       "      <td>-0.049928</td>\n",
       "      <td>-0.046242</td>\n",
       "      <td>-0.230391</td>\n",
       "      <td>-0.048735</td>\n",
       "      <td>-0.062071</td>\n",
       "      <td>8254984.0</td>\n",
       "      <td>04acbcf4-583a-4457-8cd3-ee054e0ca779</td>\n",
       "      <td>1619994</td>\n",
       "      <td>0.029834</td>\n",
       "      <td>0.0</td>\n",
       "    </tr>\n",
       "    <tr>\n",
       "      <th>30678</th>\n",
       "      <td>-0.235602</td>\n",
       "      <td>0.787094</td>\n",
       "      <td>-1.198869</td>\n",
       "      <td>-0.383661</td>\n",
       "      <td>-0.078990</td>\n",
       "      <td>0.707810</td>\n",
       "      <td>-0.195133</td>\n",
       "      <td>-1.584144</td>\n",
       "      <td>-0.428004</td>\n",
       "      <td>0.690514</td>\n",
       "      <td>0.335563</td>\n",
       "      <td>0.700792</td>\n",
       "      <td>-0.264346</td>\n",
       "      <td>-1.471223</td>\n",
       "      <td>-0.465914</td>\n",
       "      <td>0.674016</td>\n",
       "      <td>0.286828</td>\n",
       "      <td>-0.019171</td>\n",
       "      <td>-0.092862</td>\n",
       "      <td>-0.902195</td>\n",
       "      <td>-0.015222</td>\n",
       "      <td>-0.015193</td>\n",
       "      <td>-0.046743</td>\n",
       "      <td>-0.090224</td>\n",
       "      <td>0.142821</td>\n",
       "      <td>1.978361</td>\n",
       "      <td>0.916715</td>\n",
       "      <td>0.977468</td>\n",
       "      <td>-0.089978</td>\n",
       "      <td>-0.094312</td>\n",
       "      <td>0.241723</td>\n",
       "      <td>-0.093626</td>\n",
       "      <td>-0.095372</td>\n",
       "      <td>-0.416315</td>\n",
       "      <td>-0.441511</td>\n",
       "      <td>1.272556</td>\n",
       "      <td>-0.372037</td>\n",
       "      <td>-0.365484</td>\n",
       "      <td>-0.054938</td>\n",
       "      <td>-0.067242</td>\n",
       "      <td>0.815217</td>\n",
       "      <td>-0.069545</td>\n",
       "      <td>-0.059410</td>\n",
       "      <td>-0.049928</td>\n",
       "      <td>-0.046242</td>\n",
       "      <td>-0.230391</td>\n",
       "      <td>-0.048735</td>\n",
       "      <td>-0.062071</td>\n",
       "      <td>8254984.0</td>\n",
       "      <td>05aea4e9-bc07-4589-908e-de92cf936ef2</td>\n",
       "      <td>1619994</td>\n",
       "      <td>0.021369</td>\n",
       "      <td>0.0</td>\n",
       "    </tr>\n",
       "    <tr>\n",
       "      <th>37476</th>\n",
       "      <td>-0.235602</td>\n",
       "      <td>0.787094</td>\n",
       "      <td>-1.198869</td>\n",
       "      <td>-0.795534</td>\n",
       "      <td>-0.371099</td>\n",
       "      <td>-0.250887</td>\n",
       "      <td>1.317881</td>\n",
       "      <td>0.531786</td>\n",
       "      <td>-0.428004</td>\n",
       "      <td>-0.312303</td>\n",
       "      <td>0.335563</td>\n",
       "      <td>-0.397943</td>\n",
       "      <td>1.328904</td>\n",
       "      <td>0.610570</td>\n",
       "      <td>-0.465914</td>\n",
       "      <td>-0.469250</td>\n",
       "      <td>0.286828</td>\n",
       "      <td>-0.019322</td>\n",
       "      <td>-0.092759</td>\n",
       "      <td>-0.289299</td>\n",
       "      <td>-0.015290</td>\n",
       "      <td>-0.015373</td>\n",
       "      <td>-0.046915</td>\n",
       "      <td>-0.452149</td>\n",
       "      <td>-0.769908</td>\n",
       "      <td>-0.621853</td>\n",
       "      <td>-0.811360</td>\n",
       "      <td>-0.694642</td>\n",
       "      <td>-0.090396</td>\n",
       "      <td>-0.094548</td>\n",
       "      <td>-0.641155</td>\n",
       "      <td>-0.093840</td>\n",
       "      <td>-0.096432</td>\n",
       "      <td>-0.467258</td>\n",
       "      <td>-0.592940</td>\n",
       "      <td>-0.654911</td>\n",
       "      <td>-0.624286</td>\n",
       "      <td>-0.450483</td>\n",
       "      <td>-0.066929</td>\n",
       "      <td>-0.075400</td>\n",
       "      <td>-0.472247</td>\n",
       "      <td>-0.075713</td>\n",
       "      <td>-0.078578</td>\n",
       "      <td>-0.049928</td>\n",
       "      <td>-0.046242</td>\n",
       "      <td>-0.230391</td>\n",
       "      <td>-0.048735</td>\n",
       "      <td>-0.062071</td>\n",
       "      <td>8254984.0</td>\n",
       "      <td>06f03e75-b818-4b29-8c83-f557459a33a1</td>\n",
       "      <td>1619994</td>\n",
       "      <td>0.126304</td>\n",
       "      <td>0.1</td>\n",
       "    </tr>\n",
       "    <tr>\n",
       "      <th>...</th>\n",
       "      <td>...</td>\n",
       "      <td>...</td>\n",
       "      <td>...</td>\n",
       "      <td>...</td>\n",
       "      <td>...</td>\n",
       "      <td>...</td>\n",
       "      <td>...</td>\n",
       "      <td>...</td>\n",
       "      <td>...</td>\n",
       "      <td>...</td>\n",
       "      <td>...</td>\n",
       "      <td>...</td>\n",
       "      <td>...</td>\n",
       "      <td>...</td>\n",
       "      <td>...</td>\n",
       "      <td>...</td>\n",
       "      <td>...</td>\n",
       "      <td>...</td>\n",
       "      <td>...</td>\n",
       "      <td>...</td>\n",
       "      <td>...</td>\n",
       "      <td>...</td>\n",
       "      <td>...</td>\n",
       "      <td>...</td>\n",
       "      <td>...</td>\n",
       "      <td>...</td>\n",
       "      <td>...</td>\n",
       "      <td>...</td>\n",
       "      <td>...</td>\n",
       "      <td>...</td>\n",
       "      <td>...</td>\n",
       "      <td>...</td>\n",
       "      <td>...</td>\n",
       "      <td>...</td>\n",
       "      <td>...</td>\n",
       "      <td>...</td>\n",
       "      <td>...</td>\n",
       "      <td>...</td>\n",
       "      <td>...</td>\n",
       "      <td>...</td>\n",
       "      <td>...</td>\n",
       "      <td>...</td>\n",
       "      <td>...</td>\n",
       "      <td>...</td>\n",
       "      <td>...</td>\n",
       "      <td>...</td>\n",
       "      <td>...</td>\n",
       "      <td>...</td>\n",
       "      <td>...</td>\n",
       "      <td>...</td>\n",
       "      <td>...</td>\n",
       "      <td>...</td>\n",
       "      <td>...</td>\n",
       "    </tr>\n",
       "    <tr>\n",
       "      <th>1340938</th>\n",
       "      <td>-0.235602</td>\n",
       "      <td>0.787094</td>\n",
       "      <td>-1.198869</td>\n",
       "      <td>-0.589597</td>\n",
       "      <td>-0.369915</td>\n",
       "      <td>-1.401324</td>\n",
       "      <td>-1.200765</td>\n",
       "      <td>0.531786</td>\n",
       "      <td>-0.428004</td>\n",
       "      <td>-1.315121</td>\n",
       "      <td>-1.662043</td>\n",
       "      <td>-1.716424</td>\n",
       "      <td>-1.323307</td>\n",
       "      <td>0.610570</td>\n",
       "      <td>-0.465914</td>\n",
       "      <td>-1.612517</td>\n",
       "      <td>-2.121732</td>\n",
       "      <td>-0.019338</td>\n",
       "      <td>-0.093017</td>\n",
       "      <td>-0.289299</td>\n",
       "      <td>-0.015284</td>\n",
       "      <td>-0.015389</td>\n",
       "      <td>-0.046951</td>\n",
       "      <td>-0.452149</td>\n",
       "      <td>-0.769908</td>\n",
       "      <td>-0.621853</td>\n",
       "      <td>-0.811360</td>\n",
       "      <td>-0.694642</td>\n",
       "      <td>-0.090396</td>\n",
       "      <td>-0.094548</td>\n",
       "      <td>-0.641155</td>\n",
       "      <td>-0.093840</td>\n",
       "      <td>-0.096432</td>\n",
       "      <td>-0.467301</td>\n",
       "      <td>-0.593010</td>\n",
       "      <td>-0.654911</td>\n",
       "      <td>-0.624328</td>\n",
       "      <td>-0.450489</td>\n",
       "      <td>-0.066929</td>\n",
       "      <td>-0.075400</td>\n",
       "      <td>-0.472247</td>\n",
       "      <td>-0.075713</td>\n",
       "      <td>-0.078578</td>\n",
       "      <td>-0.049928</td>\n",
       "      <td>-0.046242</td>\n",
       "      <td>-0.230391</td>\n",
       "      <td>-0.048735</td>\n",
       "      <td>-0.062071</td>\n",
       "      <td>8254984.0</td>\n",
       "      <td>f7f1d55e-0d7d-4393-9808-13304ec1c925</td>\n",
       "      <td>1619994</td>\n",
       "      <td>0.239456</td>\n",
       "      <td>0.2</td>\n",
       "    </tr>\n",
       "    <tr>\n",
       "      <th>1351240</th>\n",
       "      <td>-0.235602</td>\n",
       "      <td>0.787094</td>\n",
       "      <td>-1.198869</td>\n",
       "      <td>0.646023</td>\n",
       "      <td>-0.146491</td>\n",
       "      <td>0.132592</td>\n",
       "      <td>0.552995</td>\n",
       "      <td>-0.002068</td>\n",
       "      <td>-0.428004</td>\n",
       "      <td>0.690514</td>\n",
       "      <td>0.335563</td>\n",
       "      <td>0.041551</td>\n",
       "      <td>0.523456</td>\n",
       "      <td>0.085328</td>\n",
       "      <td>-0.465914</td>\n",
       "      <td>0.674016</td>\n",
       "      <td>0.286828</td>\n",
       "      <td>-0.019234</td>\n",
       "      <td>-0.092869</td>\n",
       "      <td>-1.445621</td>\n",
       "      <td>-0.015305</td>\n",
       "      <td>-0.015280</td>\n",
       "      <td>-0.046822</td>\n",
       "      <td>0.271701</td>\n",
       "      <td>0.520885</td>\n",
       "      <td>1.216776</td>\n",
       "      <td>0.916715</td>\n",
       "      <td>0.977468</td>\n",
       "      <td>-0.089934</td>\n",
       "      <td>-0.094299</td>\n",
       "      <td>0.118896</td>\n",
       "      <td>-0.093653</td>\n",
       "      <td>-0.095847</td>\n",
       "      <td>-0.430891</td>\n",
       "      <td>-0.482090</td>\n",
       "      <td>1.513576</td>\n",
       "      <td>-0.459150</td>\n",
       "      <td>-0.420132</td>\n",
       "      <td>-0.058035</td>\n",
       "      <td>-0.069181</td>\n",
       "      <td>0.782289</td>\n",
       "      <td>-0.071962</td>\n",
       "      <td>-0.071469</td>\n",
       "      <td>-0.049928</td>\n",
       "      <td>-0.046242</td>\n",
       "      <td>-0.230391</td>\n",
       "      <td>-0.048735</td>\n",
       "      <td>-0.062071</td>\n",
       "      <td>8254984.0</td>\n",
       "      <td>f9dc044f-52ad-4b72-a800-970f179b4b0a</td>\n",
       "      <td>1619994</td>\n",
       "      <td>0.116354</td>\n",
       "      <td>0.1</td>\n",
       "    </tr>\n",
       "    <tr>\n",
       "      <th>1359468</th>\n",
       "      <td>-0.235602</td>\n",
       "      <td>0.787094</td>\n",
       "      <td>-1.198869</td>\n",
       "      <td>0.234149</td>\n",
       "      <td>-0.370704</td>\n",
       "      <td>-0.250887</td>\n",
       "      <td>1.317881</td>\n",
       "      <td>0.531786</td>\n",
       "      <td>-0.428004</td>\n",
       "      <td>-0.312303</td>\n",
       "      <td>0.335563</td>\n",
       "      <td>-0.397943</td>\n",
       "      <td>1.328904</td>\n",
       "      <td>0.610570</td>\n",
       "      <td>-0.465914</td>\n",
       "      <td>-0.469250</td>\n",
       "      <td>0.286828</td>\n",
       "      <td>-0.019318</td>\n",
       "      <td>-0.092812</td>\n",
       "      <td>-0.289299</td>\n",
       "      <td>-0.015281</td>\n",
       "      <td>-0.015369</td>\n",
       "      <td>-0.046915</td>\n",
       "      <td>-0.452149</td>\n",
       "      <td>-0.769908</td>\n",
       "      <td>-0.621853</td>\n",
       "      <td>-0.811360</td>\n",
       "      <td>-0.694642</td>\n",
       "      <td>-0.090396</td>\n",
       "      <td>-0.094548</td>\n",
       "      <td>-0.641155</td>\n",
       "      <td>-0.093840</td>\n",
       "      <td>-0.096432</td>\n",
       "      <td>-0.467258</td>\n",
       "      <td>-0.592940</td>\n",
       "      <td>-0.654911</td>\n",
       "      <td>-0.624286</td>\n",
       "      <td>-0.450483</td>\n",
       "      <td>-0.066929</td>\n",
       "      <td>-0.075400</td>\n",
       "      <td>-0.472247</td>\n",
       "      <td>-0.075713</td>\n",
       "      <td>-0.078578</td>\n",
       "      <td>-0.049928</td>\n",
       "      <td>-0.046242</td>\n",
       "      <td>-0.230391</td>\n",
       "      <td>-0.048735</td>\n",
       "      <td>-0.062071</td>\n",
       "      <td>8254984.0</td>\n",
       "      <td>fb5fa95b-5964-4d2a-93da-81f6da060cac</td>\n",
       "      <td>1619994</td>\n",
       "      <td>0.126305</td>\n",
       "      <td>0.1</td>\n",
       "    </tr>\n",
       "    <tr>\n",
       "      <th>1374038</th>\n",
       "      <td>-0.235602</td>\n",
       "      <td>0.787094</td>\n",
       "      <td>-1.198869</td>\n",
       "      <td>-0.177724</td>\n",
       "      <td>0.348515</td>\n",
       "      <td>0.324332</td>\n",
       "      <td>0.392167</td>\n",
       "      <td>-0.307863</td>\n",
       "      <td>-0.428004</td>\n",
       "      <td>0.690514</td>\n",
       "      <td>0.335563</td>\n",
       "      <td>0.261298</td>\n",
       "      <td>0.354099</td>\n",
       "      <td>-0.215533</td>\n",
       "      <td>-0.465914</td>\n",
       "      <td>0.674016</td>\n",
       "      <td>0.286828</td>\n",
       "      <td>-0.019155</td>\n",
       "      <td>-0.092824</td>\n",
       "      <td>-1.278752</td>\n",
       "      <td>-0.015235</td>\n",
       "      <td>-0.015205</td>\n",
       "      <td>-0.046734</td>\n",
       "      <td>0.090739</td>\n",
       "      <td>0.347952</td>\n",
       "      <td>1.501213</td>\n",
       "      <td>0.916715</td>\n",
       "      <td>0.977468</td>\n",
       "      <td>-0.089962</td>\n",
       "      <td>-0.094325</td>\n",
       "      <td>0.050419</td>\n",
       "      <td>-0.093664</td>\n",
       "      <td>-0.095700</td>\n",
       "      <td>-0.430939</td>\n",
       "      <td>-0.482013</td>\n",
       "      <td>1.097339</td>\n",
       "      <td>-0.469781</td>\n",
       "      <td>-0.410064</td>\n",
       "      <td>-0.006085</td>\n",
       "      <td>-0.021237</td>\n",
       "      <td>1.736237</td>\n",
       "      <td>-0.027355</td>\n",
       "      <td>-0.013738</td>\n",
       "      <td>-0.049928</td>\n",
       "      <td>-0.046242</td>\n",
       "      <td>-0.230391</td>\n",
       "      <td>-0.048735</td>\n",
       "      <td>-0.062071</td>\n",
       "      <td>8254984.0</td>\n",
       "      <td>fe1031c7-dc56-4afc-9a87-65ca4c47d8e2</td>\n",
       "      <td>1619994</td>\n",
       "      <td>0.063467</td>\n",
       "      <td>0.1</td>\n",
       "    </tr>\n",
       "    <tr>\n",
       "      <th>1375010</th>\n",
       "      <td>-0.235602</td>\n",
       "      <td>0.787094</td>\n",
       "      <td>-1.198869</td>\n",
       "      <td>-0.795534</td>\n",
       "      <td>-0.369520</td>\n",
       "      <td>-1.401324</td>\n",
       "      <td>-1.200765</td>\n",
       "      <td>0.531786</td>\n",
       "      <td>-0.428004</td>\n",
       "      <td>-1.315121</td>\n",
       "      <td>-1.662043</td>\n",
       "      <td>-1.716424</td>\n",
       "      <td>-1.323307</td>\n",
       "      <td>0.610570</td>\n",
       "      <td>-0.465914</td>\n",
       "      <td>-1.612517</td>\n",
       "      <td>-2.121732</td>\n",
       "      <td>-0.019359</td>\n",
       "      <td>-0.092863</td>\n",
       "      <td>-0.289299</td>\n",
       "      <td>-0.015318</td>\n",
       "      <td>-0.015410</td>\n",
       "      <td>-0.046958</td>\n",
       "      <td>-0.452149</td>\n",
       "      <td>-0.769908</td>\n",
       "      <td>-0.621853</td>\n",
       "      <td>-0.811360</td>\n",
       "      <td>-0.694642</td>\n",
       "      <td>-0.090396</td>\n",
       "      <td>-0.094548</td>\n",
       "      <td>-0.641155</td>\n",
       "      <td>-0.093840</td>\n",
       "      <td>-0.096432</td>\n",
       "      <td>-0.467258</td>\n",
       "      <td>-0.592940</td>\n",
       "      <td>-0.654911</td>\n",
       "      <td>-0.624286</td>\n",
       "      <td>-0.450483</td>\n",
       "      <td>-0.066929</td>\n",
       "      <td>-0.075400</td>\n",
       "      <td>-0.472247</td>\n",
       "      <td>-0.075713</td>\n",
       "      <td>-0.078578</td>\n",
       "      <td>-0.049928</td>\n",
       "      <td>-0.046242</td>\n",
       "      <td>-0.230391</td>\n",
       "      <td>-0.048735</td>\n",
       "      <td>-0.062071</td>\n",
       "      <td>8254984.0</td>\n",
       "      <td>fe3eca3b-b2d3-43ec-86ee-5ea23656879c</td>\n",
       "      <td>1619994</td>\n",
       "      <td>0.085224</td>\n",
       "      <td>0.1</td>\n",
       "    </tr>\n",
       "  </tbody>\n",
       "</table>\n",
       "<p>144 rows × 53 columns</p>\n",
       "</div>"
      ],
      "text/plain": [
       "         video_duration  device_class  video_popularity      hour  \\\n",
       "17951         -0.235602      0.787094         -1.198869  1.057896   \n",
       "25170         -0.235602      0.787094         -1.198869 -0.177724   \n",
       "25397         -0.235602      0.787094         -1.198869  1.057896   \n",
       "30678         -0.235602      0.787094         -1.198869 -0.383661   \n",
       "37476         -0.235602      0.787094         -1.198869 -0.795534   \n",
       "...                 ...           ...               ...       ...   \n",
       "1340938       -0.235602      0.787094         -1.198869 -0.589597   \n",
       "1351240       -0.235602      0.787094         -1.198869  0.646023   \n",
       "1359468       -0.235602      0.787094         -1.198869  0.234149   \n",
       "1374038       -0.235602      0.787094         -1.198869 -0.177724   \n",
       "1375010       -0.235602      0.787094         -1.198869 -0.795534   \n",
       "\n",
       "         startup_delay  bitrate_mean  bitrate_std  bitrate_skew  bitrate_min  \\\n",
       "17951         0.137723      0.324332     0.448076     -0.414588    -0.428004   \n",
       "25170        -0.169386      0.669463    -0.104434     -1.365964    -0.428004   \n",
       "25397         0.047327     -1.401324    -1.200765      0.531786    -0.428004   \n",
       "30678        -0.078990      0.707810    -0.195133     -1.584144    -0.428004   \n",
       "37476        -0.371099     -0.250887     1.317881      0.531786    -0.428004   \n",
       "...                ...           ...          ...           ...          ...   \n",
       "1340938      -0.369915     -1.401324    -1.200765      0.531786    -0.428004   \n",
       "1351240      -0.146491      0.132592     0.552995     -0.002068    -0.428004   \n",
       "1359468      -0.370704     -0.250887     1.317881      0.531786    -0.428004   \n",
       "1374038       0.348515      0.324332     0.392167     -0.307863    -0.428004   \n",
       "1375010      -0.369520     -1.401324    -1.200765      0.531786    -0.428004   \n",
       "\n",
       "         bitrate_median  bitrate_max  resolution_mean  resolution_std  \\\n",
       "17951          0.690514     0.335563         0.261298        0.412973   \n",
       "25170          0.690514     0.335563         0.656843       -0.168837   \n",
       "25397         -1.315121    -1.662043        -1.716424       -1.323307   \n",
       "30678          0.690514     0.335563         0.700792       -0.264346   \n",
       "37476         -0.312303     0.335563        -0.397943        1.328904   \n",
       "...                 ...          ...              ...             ...   \n",
       "1340938       -1.315121    -1.662043        -1.716424       -1.323307   \n",
       "1351240        0.690514     0.335563         0.041551        0.523456   \n",
       "1359468       -0.312303     0.335563        -0.397943        1.328904   \n",
       "1374038        0.690514     0.335563         0.261298        0.354099   \n",
       "1375010       -1.315121    -1.662043        -1.716424       -1.323307   \n",
       "\n",
       "         resolution_skew  resolution_min  resolution_median  resolution_max  \\\n",
       "17951          -0.320536       -0.465914           0.674016        0.286828   \n",
       "25170          -1.256562       -0.465914           0.674016        0.286828   \n",
       "25397           0.610570       -0.465914          -1.612517       -2.121732   \n",
       "30678          -1.471223       -0.465914           0.674016        0.286828   \n",
       "37476           0.610570       -0.465914          -0.469250        0.286828   \n",
       "...                  ...             ...                ...             ...   \n",
       "1340938         0.610570       -0.465914          -1.612517       -2.121732   \n",
       "1351240         0.085328       -0.465914           0.674016        0.286828   \n",
       "1359468         0.610570       -0.465914          -0.469250        0.286828   \n",
       "1374038        -0.215533       -0.465914           0.674016        0.286828   \n",
       "1375010         0.610570       -0.465914          -1.612517       -2.121732   \n",
       "\n",
       "         latency_mean  latency_std  latency_skew  latency_min  latency_median  \\\n",
       "17951       -0.018828    -0.083365      1.076084    -0.015516       -0.015519   \n",
       "25170       -0.019157    -0.092880     -0.907866    -0.015207       -0.015193   \n",
       "25397       -0.019329    -0.091834      0.657124    -0.015403       -0.015428   \n",
       "30678       -0.019171    -0.092862     -0.902195    -0.015222       -0.015193   \n",
       "37476       -0.019322    -0.092759     -0.289299    -0.015290       -0.015373   \n",
       "...               ...          ...           ...          ...             ...   \n",
       "1340938     -0.019338    -0.093017     -0.289299    -0.015284       -0.015389   \n",
       "1351240     -0.019234    -0.092869     -1.445621    -0.015305       -0.015280   \n",
       "1359468     -0.019318    -0.092812     -0.289299    -0.015281       -0.015369   \n",
       "1374038     -0.019155    -0.092824     -1.278752    -0.015235       -0.015205   \n",
       "1375010     -0.019359    -0.092863     -0.289299    -0.015318       -0.015410   \n",
       "\n",
       "         latency_max  qualitychange_mean  qualitychange_std  \\\n",
       "17951      -0.044626            0.633626           0.810984   \n",
       "25170      -0.046731           -0.017839           0.229936   \n",
       "25397      -0.046731           -0.452149          -0.769908   \n",
       "30678      -0.046743           -0.090224           0.142821   \n",
       "37476      -0.046915           -0.452149          -0.769908   \n",
       "...              ...                 ...                ...   \n",
       "1340938    -0.046951           -0.452149          -0.769908   \n",
       "1351240    -0.046822            0.271701           0.520885   \n",
       "1359468    -0.046915           -0.452149          -0.769908   \n",
       "1374038    -0.046734            0.090739           0.347952   \n",
       "1375010    -0.046958           -0.452149          -0.769908   \n",
       "\n",
       "         qualitychange_skew  qualitychange_max  qualitychange_sum  \\\n",
       "17951              0.879381           0.916715           0.977468   \n",
       "25170              1.751807           0.916715           0.977468   \n",
       "25397             -0.621853          -0.811360          -0.694642   \n",
       "30678              1.978361           0.916715           0.977468   \n",
       "37476             -0.621853          -0.811360          -0.694642   \n",
       "...                     ...                ...                ...   \n",
       "1340938           -0.621853          -0.811360          -0.694642   \n",
       "1351240            1.216776           0.916715           0.977468   \n",
       "1359468           -0.621853          -0.811360          -0.694642   \n",
       "1374038            1.501213           0.916715           0.977468   \n",
       "1375010           -0.621853          -0.811360          -0.694642   \n",
       "\n",
       "         paused_mean  paused_std  paused_skew  paused_max  paused_sum  \\\n",
       "17951      -0.083136   -0.086987     1.227906   -0.087455   -0.090307   \n",
       "25170      -0.089968   -0.094245     0.735647   -0.093516   -0.095528   \n",
       "25397      -0.090141   -0.094360     0.680470   -0.093728   -0.096325   \n",
       "30678      -0.089978   -0.094312     0.241723   -0.093626   -0.095372   \n",
       "37476      -0.090396   -0.094548    -0.641155   -0.093840   -0.096432   \n",
       "...              ...         ...          ...         ...         ...   \n",
       "1340938    -0.090396   -0.094548    -0.641155   -0.093840   -0.096432   \n",
       "1351240    -0.089934   -0.094299     0.118896   -0.093653   -0.095847   \n",
       "1359468    -0.090396   -0.094548    -0.641155   -0.093840   -0.096432   \n",
       "1374038    -0.089962   -0.094325     0.050419   -0.093664   -0.095700   \n",
       "1375010    -0.090396   -0.094548    -0.641155   -0.093840   -0.096432   \n",
       "\n",
       "         playing_mean  playing_std  playing_skew  playing_max  playing_sum  \\\n",
       "17951       -0.189016    -0.114727      0.074780    -0.113059    -0.295936   \n",
       "25170        0.106505     1.230519      1.292174     1.938365     0.346172   \n",
       "25397       -0.425869    -0.495557      0.716360    -0.540817    -0.438980   \n",
       "30678       -0.416315    -0.441511      1.272556    -0.372037    -0.365484   \n",
       "37476       -0.467258    -0.592940     -0.654911    -0.624286    -0.450483   \n",
       "...               ...          ...           ...          ...          ...   \n",
       "1340938     -0.467301    -0.593010     -0.654911    -0.624328    -0.450489   \n",
       "1351240     -0.430891    -0.482090      1.513576    -0.459150    -0.420132   \n",
       "1359468     -0.467258    -0.592940     -0.654911    -0.624286    -0.450483   \n",
       "1374038     -0.430939    -0.482013      1.097339    -0.469781    -0.410064   \n",
       "1375010     -0.467258    -0.592940     -0.654911    -0.624286    -0.450483   \n",
       "\n",
       "         seeking_mean  seeking_std  seeking_skew  seeking_max  seeking_sum  \\\n",
       "17951       -0.066929    -0.075400     -0.472247    -0.075713    -0.078578   \n",
       "25170        1.052692     1.409224      2.241918     1.416965     1.412882   \n",
       "25397       -0.066929    -0.075400     -0.472247    -0.075713    -0.078578   \n",
       "30678       -0.054938    -0.067242      0.815217    -0.069545    -0.059410   \n",
       "37476       -0.066929    -0.075400     -0.472247    -0.075713    -0.078578   \n",
       "...               ...          ...           ...          ...          ...   \n",
       "1340938     -0.066929    -0.075400     -0.472247    -0.075713    -0.078578   \n",
       "1351240     -0.058035    -0.069181      0.782289    -0.071962    -0.071469   \n",
       "1359468     -0.066929    -0.075400     -0.472247    -0.075713    -0.078578   \n",
       "1374038     -0.006085    -0.021237      1.736237    -0.027355    -0.013738   \n",
       "1375010     -0.066929    -0.075400     -0.472247    -0.075713    -0.078578   \n",
       "\n",
       "         rebuffering_mean  rebuffering_std  rebuffering_skew  rebuffering_max  \\\n",
       "17951           -0.049928        -0.046242         -0.230391        -0.048735   \n",
       "25170           -0.049928        -0.046242         -0.230391        -0.048735   \n",
       "25397           -0.049928        -0.046242         -0.230391        -0.048735   \n",
       "30678           -0.049928        -0.046242         -0.230391        -0.048735   \n",
       "37476           -0.049928        -0.046242         -0.230391        -0.048735   \n",
       "...                   ...              ...               ...              ...   \n",
       "1340938         -0.049928        -0.046242         -0.230391        -0.048735   \n",
       "1351240         -0.049928        -0.046242         -0.230391        -0.048735   \n",
       "1359468         -0.049928        -0.046242         -0.230391        -0.048735   \n",
       "1374038         -0.049928        -0.046242         -0.230391        -0.048735   \n",
       "1375010         -0.049928        -0.046242         -0.230391        -0.048735   \n",
       "\n",
       "         rebuffering_sum  custom_user_id  \\\n",
       "17951          -0.062071       8254984.0   \n",
       "25170          -0.062071       8254984.0   \n",
       "25397          -0.062071       8254984.0   \n",
       "30678          -0.062071       8254984.0   \n",
       "37476          -0.062071       8254984.0   \n",
       "...                  ...             ...   \n",
       "1340938        -0.062071       8254984.0   \n",
       "1351240        -0.062071       8254984.0   \n",
       "1359468        -0.062071       8254984.0   \n",
       "1374038        -0.062071       8254984.0   \n",
       "1375010        -0.062071       8254984.0   \n",
       "\n",
       "                                impression_id  video_id  engagement  \\\n",
       "17951    034e75b1-d80d-42ba-bd02-a7d8b0e34e86   1619994    0.000933   \n",
       "25170    04a147eb-0d07-4674-9757-18701516aa32   1619994    0.035967   \n",
       "25397    04acbcf4-583a-4457-8cd3-ee054e0ca779   1619994    0.029834   \n",
       "30678    05aea4e9-bc07-4589-908e-de92cf936ef2   1619994    0.021369   \n",
       "37476    06f03e75-b818-4b29-8c83-f557459a33a1   1619994    0.126304   \n",
       "...                                       ...       ...         ...   \n",
       "1340938  f7f1d55e-0d7d-4393-9808-13304ec1c925   1619994    0.239456   \n",
       "1351240  f9dc044f-52ad-4b72-a800-970f179b4b0a   1619994    0.116354   \n",
       "1359468  fb5fa95b-5964-4d2a-93da-81f6da060cac   1619994    0.126305   \n",
       "1374038  fe1031c7-dc56-4afc-9a87-65ca4c47d8e2   1619994    0.063467   \n",
       "1375010  fe3eca3b-b2d3-43ec-86ee-5ea23656879c   1619994    0.085224   \n",
       "\n",
       "         10_bins_engagement  \n",
       "17951                   0.0  \n",
       "25170                   0.0  \n",
       "25397                   0.0  \n",
       "30678                   0.0  \n",
       "37476                   0.1  \n",
       "...                     ...  \n",
       "1340938                 0.2  \n",
       "1351240                 0.1  \n",
       "1359468                 0.1  \n",
       "1374038                 0.1  \n",
       "1375010                 0.1  \n",
       "\n",
       "[144 rows x 53 columns]"
      ]
     },
     "execution_count": 48,
     "metadata": {},
     "output_type": "execute_result"
    }
   ],
   "source": [
    "df_standard[(df_standard.custom_user_id == 8254984) & (df_standard.video_id == 1619994)]"
   ]
  },
  {
   "cell_type": "code",
   "execution_count": 49,
   "id": "4f518c17-d917-45d8-b18f-da2b3ba079c0",
   "metadata": {
    "tags": []
   },
   "outputs": [],
   "source": [
    "# X, y split\n",
    "X_train = df_standard_train.drop(columns=special_features)\n",
    "X_test = df_standard_test.drop(columns=special_features)\n",
    "y_train = df_standard_train.engagement\n",
    "y_test = df_standard_test.engagement\n",
    "\n",
    "cadvise = pd.read_csv('DT_dataset_ARTEMIS_final.csv')\n",
    "cadvise = cadvise[~cadvise.content.str.contains('artemis')]\n",
    "cadvise = cadvise.drop(columns=['lalisa ladder', 'players', 'content', 'run', 'delay'])\n",
    "\n",
    "# add a new benchmark network from high bandwidth scenarios\n",
    "cadvise_new = pd.read_csv('DT_dataset_ARTEMIS_new.csv')\n",
    "\n",
    "cadvise = pd.concat([\n",
    "    cadvise,\n",
    "    cadvise_new,\n",
    "])\n",
    "\n",
    "# combinations of parameters\n",
    "scenario_features = ['segment size (s)', 'abr', 'network']\n",
    "\n",
    "# sample 100 occurrences of each scenario combination\n",
    "cadvise = cadvise.groupby(scenario_features).sample(100, replace=True, random_state=random_seed)\n",
    "\n",
    "X_train_only_columns = X_train.columns.difference(cadvise.columns)\n",
    "cadvise_only_columns = cadvise.columns.difference(X_train.columns)\n",
    "\n",
    "# columns that are in X_train and not in CAdViSE get filled with the median value from training data\n",
    "X_train_only_medians = X_train[X_train_only_columns].median()\n",
    "for col in X_train_only_medians.index:\n",
    "    cadvise[col] = X_train_only_medians[col]\n",
    "    \n",
    "# certain parameters can be chosen directly instead of using their median to see how they impact the results\n",
    "experiment_parameters = {\n",
    "    'device_class': 3,\n",
    "    'video_duration': 60 * 60 * 1000,\n",
    "    'video_popularity': 100,\n",
    "    'startup_delay': 1000,\n",
    "    'hour': 20,\n",
    "}\n",
    "for col in experiment_parameters:\n",
    "    cadvise[col] = experiment_parameters[col]\n",
    "    \n",
    "# columns that are in CAdViSE and not in X_train get removed\n",
    "cadvise_parameters = cadvise[cadvise_only_columns]\n",
    "cadvise = cadvise.drop(columns=cadvise_only_columns)\n",
    "\n",
    "# add empty columns for missing columns (that were filtered out in feature selection)\n",
    "missing_columns = pd.Index(scaler.feature_names_in_).difference(cadvise.columns)\n",
    "cadvise[missing_columns] = 0\n",
    "# reorder columns as in X_train for scaler\n",
    "cadvise = cadvise[scaler.feature_names_in_]\n",
    "# scale cadvise features\n",
    "cadvise = pd.DataFrame(\n",
    "    scaler.transform(cadvise),\n",
    "    index=cadvise.index,\n",
    "    columns=scaler.feature_names_in_\n",
    ")\n",
    "# remove empty columns\n",
    "cadvise = cadvise.drop(columns=missing_columns)\n",
    "\n",
    "# add a sampled user sentivities set to every cadvise impression\n",
    "sensitivities_for_cadvise = sensitivities_xgb.sample(len(cadvise), replace=True, random_state=random_seed).set_index(cadvise.index)\n",
    "cadvise = pd.concat([\n",
    "    cadvise,\n",
    "    sensitivities_for_cadvise\n",
    "], axis=1).astype(float)\n",
    "\n",
    "# reorder columns as in XGBoost model\n",
    "cadvise = cadvise[search_xgb.best_estimator_.get_booster().feature_names]\n",
    "\n",
    "# predict engagement\n",
    "cadvise['engagement'] = search_xgb.best_estimator_.predict(cadvise)\n",
    "\n",
    "# add back scenario features\n",
    "cadvise = cadvise.join(cadvise_parameters[scenario_features])\n",
    "\n",
    "if show_intermediate_results:\n",
    "    cadvise.groupby(scenario_features).engagement.describe()"
   ]
  },
  {
   "cell_type": "code",
   "execution_count": 50,
   "id": "90a9348c-8d8c-404d-a8d5-f8d82855b6c2",
   "metadata": {},
   "outputs": [
    {
     "data": {
      "text/html": [
       "<div>\n",
       "<style scoped>\n",
       "    .dataframe tbody tr th:only-of-type {\n",
       "        vertical-align: middle;\n",
       "    }\n",
       "\n",
       "    .dataframe tbody tr th {\n",
       "        vertical-align: top;\n",
       "    }\n",
       "\n",
       "    .dataframe thead th {\n",
       "        text-align: right;\n",
       "    }\n",
       "</style>\n",
       "<table border=\"1\" class=\"dataframe\">\n",
       "  <thead>\n",
       "    <tr style=\"text-align: right;\">\n",
       "      <th></th>\n",
       "      <th></th>\n",
       "      <th></th>\n",
       "      <th>count</th>\n",
       "      <th>mean</th>\n",
       "      <th>std</th>\n",
       "      <th>min</th>\n",
       "      <th>25%</th>\n",
       "      <th>50%</th>\n",
       "      <th>75%</th>\n",
       "      <th>max</th>\n",
       "    </tr>\n",
       "    <tr>\n",
       "      <th>abr</th>\n",
       "      <th>network</th>\n",
       "      <th>segment size (s)</th>\n",
       "      <th></th>\n",
       "      <th></th>\n",
       "      <th></th>\n",
       "      <th></th>\n",
       "      <th></th>\n",
       "      <th></th>\n",
       "      <th></th>\n",
       "      <th></th>\n",
       "    </tr>\n",
       "  </thead>\n",
       "  <tbody>\n",
       "    <tr>\n",
       "      <th rowspan=\"2\" valign=\"top\">bola</th>\n",
       "      <th>amazonfcc</th>\n",
       "      <th>2</th>\n",
       "      <td>1104.0</td>\n",
       "      <td>0.646776</td>\n",
       "      <td>0.083056</td>\n",
       "      <td>0.405675</td>\n",
       "      <td>0.531140</td>\n",
       "      <td>0.701128</td>\n",
       "      <td>0.704268</td>\n",
       "      <td>0.718855</td>\n",
       "    </tr>\n",
       "    <tr>\n",
       "      <th>cascade20</th>\n",
       "      <th>2</th>\n",
       "      <td>1117.0</td>\n",
       "      <td>0.655692</td>\n",
       "      <td>0.084756</td>\n",
       "      <td>0.410230</td>\n",
       "      <td>0.533348</td>\n",
       "      <td>0.702391</td>\n",
       "      <td>0.709467</td>\n",
       "      <td>0.731139</td>\n",
       "    </tr>\n",
       "    <tr>\n",
       "      <th rowspan=\"13\" valign=\"top\">l2a</th>\n",
       "      <th rowspan=\"2\" valign=\"top\">amazonfcc</th>\n",
       "      <th>1</th>\n",
       "      <td>166.0</td>\n",
       "      <td>0.661098</td>\n",
       "      <td>0.074047</td>\n",
       "      <td>0.487668</td>\n",
       "      <td>0.691185</td>\n",
       "      <td>0.700746</td>\n",
       "      <td>0.704377</td>\n",
       "      <td>0.706649</td>\n",
       "    </tr>\n",
       "    <tr>\n",
       "      <th>2</th>\n",
       "      <td>129.0</td>\n",
       "      <td>0.661071</td>\n",
       "      <td>0.082978</td>\n",
       "      <td>0.526724</td>\n",
       "      <td>0.538063</td>\n",
       "      <td>0.705233</td>\n",
       "      <td>0.712603</td>\n",
       "      <td>0.772031</td>\n",
       "    </tr>\n",
       "    <tr>\n",
       "      <th rowspan=\"2\" valign=\"top\">cascade20</th>\n",
       "      <th>1</th>\n",
       "      <td>184.0</td>\n",
       "      <td>0.666499</td>\n",
       "      <td>0.067733</td>\n",
       "      <td>0.487668</td>\n",
       "      <td>0.672129</td>\n",
       "      <td>0.697860</td>\n",
       "      <td>0.703224</td>\n",
       "      <td>0.706663</td>\n",
       "    </tr>\n",
       "    <tr>\n",
       "      <th>2</th>\n",
       "      <td>110.0</td>\n",
       "      <td>0.659631</td>\n",
       "      <td>0.080334</td>\n",
       "      <td>0.487668</td>\n",
       "      <td>0.531140</td>\n",
       "      <td>0.704743</td>\n",
       "      <td>0.710964</td>\n",
       "      <td>0.717357</td>\n",
       "    </tr>\n",
       "    <tr>\n",
       "      <th rowspan=\"2\" valign=\"top\">cascade5</th>\n",
       "      <th>1</th>\n",
       "      <td>124.0</td>\n",
       "      <td>0.648894</td>\n",
       "      <td>0.079227</td>\n",
       "      <td>0.488599</td>\n",
       "      <td>0.531140</td>\n",
       "      <td>0.700737</td>\n",
       "      <td>0.704425</td>\n",
       "      <td>0.711223</td>\n",
       "    </tr>\n",
       "    <tr>\n",
       "      <th>2</th>\n",
       "      <td>112.0</td>\n",
       "      <td>0.660871</td>\n",
       "      <td>0.080692</td>\n",
       "      <td>0.526830</td>\n",
       "      <td>0.537001</td>\n",
       "      <td>0.709857</td>\n",
       "      <td>0.711452</td>\n",
       "      <td>0.716949</td>\n",
       "    </tr>\n",
       "    <tr>\n",
       "      <th>fixed</th>\n",
       "      <th>1</th>\n",
       "      <td>126.0</td>\n",
       "      <td>0.657710</td>\n",
       "      <td>0.084585</td>\n",
       "      <td>0.476113</td>\n",
       "      <td>0.537010</td>\n",
       "      <td>0.703351</td>\n",
       "      <td>0.709899</td>\n",
       "      <td>0.819717</td>\n",
       "    </tr>\n",
       "    <tr>\n",
       "      <th>fixedhighest</th>\n",
       "      <th>1</th>\n",
       "      <td>1306.0</td>\n",
       "      <td>0.667915</td>\n",
       "      <td>0.088760</td>\n",
       "      <td>0.515618</td>\n",
       "      <td>0.527811</td>\n",
       "      <td>0.721948</td>\n",
       "      <td>0.722766</td>\n",
       "      <td>0.722961</td>\n",
       "    </tr>\n",
       "    <tr>\n",
       "      <th>high_bandwidth</th>\n",
       "      <th>2</th>\n",
       "      <td>1078.0</td>\n",
       "      <td>0.690557</td>\n",
       "      <td>0.106306</td>\n",
       "      <td>0.540533</td>\n",
       "      <td>0.543151</td>\n",
       "      <td>0.765392</td>\n",
       "      <td>0.768631</td>\n",
       "      <td>0.771207</td>\n",
       "    </tr>\n",
       "    <tr>\n",
       "      <th>low_bandwidth</th>\n",
       "      <th>2</th>\n",
       "      <td>1204.0</td>\n",
       "      <td>0.664347</td>\n",
       "      <td>0.104186</td>\n",
       "      <td>0.423937</td>\n",
       "      <td>0.575029</td>\n",
       "      <td>0.702829</td>\n",
       "      <td>0.747893</td>\n",
       "      <td>0.782919</td>\n",
       "    </tr>\n",
       "    <tr>\n",
       "      <th>lowandhigh</th>\n",
       "      <th>2</th>\n",
       "      <td>168.0</td>\n",
       "      <td>0.672506</td>\n",
       "      <td>0.093850</td>\n",
       "      <td>0.495600</td>\n",
       "      <td>0.552741</td>\n",
       "      <td>0.716157</td>\n",
       "      <td>0.758098</td>\n",
       "      <td>0.771271</td>\n",
       "    </tr>\n",
       "    <tr>\n",
       "      <th rowspan=\"2\" valign=\"top\">lte</th>\n",
       "      <th>1</th>\n",
       "      <td>132.0</td>\n",
       "      <td>0.661093</td>\n",
       "      <td>0.078450</td>\n",
       "      <td>0.530094</td>\n",
       "      <td>0.538955</td>\n",
       "      <td>0.705461</td>\n",
       "      <td>0.709899</td>\n",
       "      <td>0.716926</td>\n",
       "    </tr>\n",
       "    <tr>\n",
       "      <th>2</th>\n",
       "      <td>108.0</td>\n",
       "      <td>0.661567</td>\n",
       "      <td>0.084620</td>\n",
       "      <td>0.527811</td>\n",
       "      <td>0.538824</td>\n",
       "      <td>0.711016</td>\n",
       "      <td>0.714892</td>\n",
       "      <td>0.766542</td>\n",
       "    </tr>\n",
       "    <tr>\n",
       "      <th rowspan=\"2\" valign=\"top\">lolp</th>\n",
       "      <th>cascade5</th>\n",
       "      <th>2</th>\n",
       "      <td>144.0</td>\n",
       "      <td>0.666913</td>\n",
       "      <td>0.077533</td>\n",
       "      <td>0.530132</td>\n",
       "      <td>0.694320</td>\n",
       "      <td>0.709962</td>\n",
       "      <td>0.712581</td>\n",
       "      <td>0.717357</td>\n",
       "    </tr>\n",
       "    <tr>\n",
       "      <th>lte</th>\n",
       "      <th>2</th>\n",
       "      <td>148.0</td>\n",
       "      <td>0.674944</td>\n",
       "      <td>0.074871</td>\n",
       "      <td>0.524011</td>\n",
       "      <td>0.704345</td>\n",
       "      <td>0.710452</td>\n",
       "      <td>0.714046</td>\n",
       "      <td>0.771439</td>\n",
       "    </tr>\n",
       "    <tr>\n",
       "      <th rowspan=\"2\" valign=\"top\">throughput</th>\n",
       "      <th>amazonfcc</th>\n",
       "      <th>2</th>\n",
       "      <td>1032.0</td>\n",
       "      <td>0.660156</td>\n",
       "      <td>0.073303</td>\n",
       "      <td>0.509661</td>\n",
       "      <td>0.672022</td>\n",
       "      <td>0.700457</td>\n",
       "      <td>0.704817</td>\n",
       "      <td>0.716926</td>\n",
       "    </tr>\n",
       "    <tr>\n",
       "      <th>cascade20</th>\n",
       "      <th>2</th>\n",
       "      <td>1388.0</td>\n",
       "      <td>0.646798</td>\n",
       "      <td>0.079809</td>\n",
       "      <td>0.401385</td>\n",
       "      <td>0.661258</td>\n",
       "      <td>0.672122</td>\n",
       "      <td>0.698001</td>\n",
       "      <td>0.749359</td>\n",
       "    </tr>\n",
       "  </tbody>\n",
       "</table>\n",
       "</div>"
      ],
      "text/plain": [
       "                                             count      mean       std  \\\n",
       "abr        network        segment size (s)                               \n",
       "bola       amazonfcc      2                 1104.0  0.646776  0.083056   \n",
       "           cascade20      2                 1117.0  0.655692  0.084756   \n",
       "l2a        amazonfcc      1                  166.0  0.661098  0.074047   \n",
       "                          2                  129.0  0.661071  0.082978   \n",
       "           cascade20      1                  184.0  0.666499  0.067733   \n",
       "                          2                  110.0  0.659631  0.080334   \n",
       "           cascade5       1                  124.0  0.648894  0.079227   \n",
       "                          2                  112.0  0.660871  0.080692   \n",
       "           fixed          1                  126.0  0.657710  0.084585   \n",
       "           fixedhighest   1                 1306.0  0.667915  0.088760   \n",
       "           high_bandwidth 2                 1078.0  0.690557  0.106306   \n",
       "           low_bandwidth  2                 1204.0  0.664347  0.104186   \n",
       "           lowandhigh     2                  168.0  0.672506  0.093850   \n",
       "           lte            1                  132.0  0.661093  0.078450   \n",
       "                          2                  108.0  0.661567  0.084620   \n",
       "lolp       cascade5       2                  144.0  0.666913  0.077533   \n",
       "           lte            2                  148.0  0.674944  0.074871   \n",
       "throughput amazonfcc      2                 1032.0  0.660156  0.073303   \n",
       "           cascade20      2                 1388.0  0.646798  0.079809   \n",
       "\n",
       "                                                 min       25%       50%  \\\n",
       "abr        network        segment size (s)                                 \n",
       "bola       amazonfcc      2                 0.405675  0.531140  0.701128   \n",
       "           cascade20      2                 0.410230  0.533348  0.702391   \n",
       "l2a        amazonfcc      1                 0.487668  0.691185  0.700746   \n",
       "                          2                 0.526724  0.538063  0.705233   \n",
       "           cascade20      1                 0.487668  0.672129  0.697860   \n",
       "                          2                 0.487668  0.531140  0.704743   \n",
       "           cascade5       1                 0.488599  0.531140  0.700737   \n",
       "                          2                 0.526830  0.537001  0.709857   \n",
       "           fixed          1                 0.476113  0.537010  0.703351   \n",
       "           fixedhighest   1                 0.515618  0.527811  0.721948   \n",
       "           high_bandwidth 2                 0.540533  0.543151  0.765392   \n",
       "           low_bandwidth  2                 0.423937  0.575029  0.702829   \n",
       "           lowandhigh     2                 0.495600  0.552741  0.716157   \n",
       "           lte            1                 0.530094  0.538955  0.705461   \n",
       "                          2                 0.527811  0.538824  0.711016   \n",
       "lolp       cascade5       2                 0.530132  0.694320  0.709962   \n",
       "           lte            2                 0.524011  0.704345  0.710452   \n",
       "throughput amazonfcc      2                 0.509661  0.672022  0.700457   \n",
       "           cascade20      2                 0.401385  0.661258  0.672122   \n",
       "\n",
       "                                                 75%       max  \n",
       "abr        network        segment size (s)                      \n",
       "bola       amazonfcc      2                 0.704268  0.718855  \n",
       "           cascade20      2                 0.709467  0.731139  \n",
       "l2a        amazonfcc      1                 0.704377  0.706649  \n",
       "                          2                 0.712603  0.772031  \n",
       "           cascade20      1                 0.703224  0.706663  \n",
       "                          2                 0.710964  0.717357  \n",
       "           cascade5       1                 0.704425  0.711223  \n",
       "                          2                 0.711452  0.716949  \n",
       "           fixed          1                 0.709899  0.819717  \n",
       "           fixedhighest   1                 0.722766  0.722961  \n",
       "           high_bandwidth 2                 0.768631  0.771207  \n",
       "           low_bandwidth  2                 0.747893  0.782919  \n",
       "           lowandhigh     2                 0.758098  0.771271  \n",
       "           lte            1                 0.709899  0.716926  \n",
       "                          2                 0.714892  0.766542  \n",
       "lolp       cascade5       2                 0.712581  0.717357  \n",
       "           lte            2                 0.714046  0.771439  \n",
       "throughput amazonfcc      2                 0.704817  0.716926  \n",
       "           cascade20      2                 0.698001  0.749359  "
      ]
     },
     "execution_count": 50,
     "metadata": {},
     "output_type": "execute_result"
    }
   ],
   "source": [
    "# choose a parameter to compare engagement\n",
    "feature_to_compare = 'segment size (s)'\n",
    "\n",
    "# put feature_to_compare as last so it's easy to check\n",
    "scenario_features.remove(feature_to_compare)\n",
    "scenario_features.append(feature_to_compare)\n",
    "\n",
    "cadvise_combinations_engagement = cadvise.groupby(scenario_features).engagement.describe()\n",
    "cadvise_combinations_engagement"
   ]
  },
  {
   "cell_type": "raw",
   "id": "857166e7-8079-426c-9d68-ba788bfaa2f0",
   "metadata": {},
   "source": [
    "cadvise_combinations_engagement.to_csv('cadvise_combinations_engagement.csv')"
   ]
  },
  {
   "cell_type": "code",
   "execution_count": 51,
   "id": "34bd5d5e-c6a6-4d94-bf6f-69460ad94ca1",
   "metadata": {},
   "outputs": [],
   "source": [
    "# TODO add graphs about impact of network trace, abr and bitrate ladder"
   ]
  }
 ],
 "metadata": {
  "kernelspec": {
   "display_name": "Python 3 (ipykernel)",
   "language": "python",
   "name": "python3"
  },
  "language_info": {
   "codemirror_mode": {
    "name": "ipython",
    "version": 3
   },
   "file_extension": ".py",
   "mimetype": "text/x-python",
   "name": "python",
   "nbconvert_exporter": "python",
   "pygments_lexer": "ipython3",
   "version": "3.10.10"
  }
 },
 "nbformat": 4,
 "nbformat_minor": 5
}
